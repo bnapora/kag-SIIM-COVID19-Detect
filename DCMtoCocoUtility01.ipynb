{
 "cells": [
  {
   "cell_type": "markdown",
   "metadata": {},
   "source": [
    "# DCMtoCocoUtility\n"
   ]
  },
  {
   "cell_type": "markdown",
   "metadata": {},
   "source": [
    "## Notes\n",
    "- added all available classes from \"Study\" level data.  (060321)  \n",
    "Issues: Lots of Image level records do not have bounding boxes, even though they are positive...need to explore  \n",
    "Issue: Duplicate records (seems to be a known issue on kaggle)"
   ]
  },
  {
   "cell_type": "code",
   "execution_count": 1,
   "metadata": {
    "_cell_guid": "b1076dfc-b9ad-4769-8c92-a6c4dae69d19",
    "_uuid": "8f2839f25d086af736a60e9eeb907d3b93b6e0e5"
   },
   "outputs": [],
   "source": [
    "import os\n",
    "import ast\n",
    "import numpy as np\n",
    "import pandas as pd\n",
    "from pathlib import Path\n",
    "import datetime\n",
    "import glob\n",
    "import json\n",
    "\n",
    "from PIL import Image\n",
    "from tqdm.auto import tqdm\n",
    "import pydicom\n",
    "import matplotlib.pyplot as plt\n",
    "import matplotlib.image as mpimg\n",
    "import cv2\n",
    "\n",
    "from fastai.medical.imaging import *"
   ]
  },
  {
   "cell_type": "code",
   "execution_count": 2,
   "metadata": {},
   "outputs": [],
   "source": [
    "params = dict(\n",
    "    size=512,\n",
    "    size_trans=512,\n",
    "    batch_size=8,\n",
    "    ds_size=500\n",
    "    )\n",
    "\n",
    "# Laptop Workstation\n",
    "# path_dicom = Path('/host_Data/DataSets/Kaggle-SIIM Covid 19/siim-covid19-detection')\n",
    "\n",
    "# AZ Server\n",
    "path_dicom = Path('/workspace/WSI/SIIM-Covid19-Detection')\n",
    "\n",
    "path_output_patches = path_dicom / ('DS-COCO_' + str(params['size']))\n",
    "labels_dcm_image = 'train_image_level.csv'\n",
    "labels_dcm_study = 'train_study_level.csv'"
   ]
  },
  {
   "cell_type": "markdown",
   "metadata": {},
   "source": [
    "<span style=\"color: #0087e4; font-family: Segoe UI; font-size: 1.9em; font-weight: 300;\">Read Dicom Images and  Resize and Save to PNG</span>"
   ]
  },
  {
   "cell_type": "code",
   "execution_count": 3,
   "metadata": {},
   "outputs": [],
   "source": [
    "from pydicom.pixel_data_handlers.util import apply_voi_lut\n",
    "\n",
    "def read_xray(dicom, voi_lut = True, fix_monochrome = True):\n",
    "    # Original from: https://www.kaggle.com/raddar/convert-dicom-to-np-array-the-correct-way\n",
    "    # dicom = pydicom.read_file(path)\n",
    "    \n",
    "    # VOI LUT (if available by DICOM device) is used to transform raw DICOM data to \n",
    "    # \"human-friendly\" view\n",
    "    if voi_lut:\n",
    "        data = apply_voi_lut(dicom.pixel_array, dicom)\n",
    "    else:\n",
    "        data = dicom.pixel_array\n",
    "               \n",
    "    # depending on this value, X-ray may look inverted - fix that:\n",
    "    if fix_monochrome and dicom.PhotometricInterpretation == \"MONOCHROME1\":\n",
    "        data = np.amax(data) - data\n",
    "        \n",
    "    data = data - np.min(data)\n",
    "    data = data / np.max(data)\n",
    "    data = (data * 255).astype(np.uint8)    \n",
    "    \n",
    "    return data"
   ]
  },
  {
   "cell_type": "code",
   "execution_count": 4,
   "metadata": {},
   "outputs": [],
   "source": [
    "def resize(array, size, keep_ratio=False, resample=Image.LANCZOS):\n",
    "    # Original from: https://www.kaggle.com/xhlulu/vinbigdata-process-and-resize-to-image\n",
    "    im = Image.fromarray(array)\n",
    "    \n",
    "    if keep_ratio:\n",
    "        im.thumbnail((size, size), resample)\n",
    "    else:\n",
    "        im = im.resize((size, size), resample)\n",
    "    \n",
    "    return im"
   ]
  },
  {
   "cell_type": "markdown",
   "metadata": {},
   "source": [
    "## Create Resized PNG Images (Only Run Once)"
   ]
  },
  {
   "cell_type": "code",
   "execution_count": 5,
   "metadata": {},
   "outputs": [],
   "source": [
    "new_size = params['size']\n",
    "\n",
    "for split in ['train', 'test']:\n",
    "# for split in ['test']:\n",
    "    save_dir = path_output_patches / f'{split}/'\n",
    "    os.makedirs(save_dir, exist_ok=True)\n",
    "\n",
    "    image_ids = []\n",
    "    folder_ids = []\n",
    "    study_ids = []\n",
    "    widths = []\n",
    "    heights = []\n",
    "\n",
    "    dicoms = get_dicom_files(path_dicom / split)\n",
    "\n",
    "    print('Count of Dicom Files=', len(dicoms))\n",
    "\n",
    "    for item in tqdm(dicoms):\n",
    "        path = str(item)\n",
    "        dicom = item.dcmread()\n",
    "        \n",
    "        # set keep_ratio=True to have original aspect ratio\n",
    "        xray = read_xray(dicom)\n",
    "        im = resize(xray, size=new_size)\n",
    "        \n",
    "        path_split = path.split('/')\n",
    "        study_id = path_split[-3]\n",
    "        folder_id = path_split[-2]\n",
    "        image_name = path_split[-1].replace('.dcm', '_image')\n",
    "        \n",
    "        im.save(os.path.join(save_dir, image_name+'.png'))\n",
    "        \n",
    "        image_ids.append(image_name)\n",
    "        folder_ids.append(folder_id)\n",
    "        study_ids.append(study_id)\n",
    "        widths.append(xray.shape[0])\n",
    "        heights.append(xray.shape[1])\n",
    "    \n",
    "    df = pd.DataFrame.from_dict({'id': image_ids, 'folder_id': folder_ids,\n",
    "                                 'study_id': study_ids, 'width': widths,\n",
    "                                 'height': heights})\n",
    "    df.to_csv(path_output_patches / f'{split}_meta.csv', index=False)"
   ]
  },
  {
   "cell_type": "markdown",
   "metadata": {},
   "source": [
    "<span style=\"color: #0087e4; font-family: Segoe UI; font-size: 1.9em; font-weight: 300;\">Process and Resize Bounding Boxes</span>"
   ]
  },
  {
   "cell_type": "markdown",
   "metadata": {},
   "source": [
    "### Load Study & Image Level Train CSV's"
   ]
  },
  {
   "cell_type": "code",
   "execution_count": 6,
   "metadata": {},
   "outputs": [
    {
     "data": {
      "text/html": [
       "<div>\n",
       "<style scoped>\n",
       "    .dataframe tbody tr th:only-of-type {\n",
       "        vertical-align: middle;\n",
       "    }\n",
       "\n",
       "    .dataframe tbody tr th {\n",
       "        vertical-align: top;\n",
       "    }\n",
       "\n",
       "    .dataframe thead th {\n",
       "        text-align: right;\n",
       "    }\n",
       "</style>\n",
       "<table border=\"1\" class=\"dataframe\">\n",
       "  <thead>\n",
       "    <tr style=\"text-align: right;\">\n",
       "      <th></th>\n",
       "      <th>id</th>\n",
       "      <th>boxes</th>\n",
       "      <th>label</th>\n",
       "      <th>StudyInstanceUID</th>\n",
       "    </tr>\n",
       "  </thead>\n",
       "  <tbody>\n",
       "    <tr>\n",
       "      <th>0</th>\n",
       "      <td>000a312787f2_image</td>\n",
       "      <td>[{'x': 789.28836, 'y': 582.43035, 'width': 1026.65662, 'height': 1917.30292}, {'x': 2245.91208, 'y': 591.20528, 'width': 1094.66162, 'height': 1761.54944}]</td>\n",
       "      <td>opacity 1 789.28836 582.43035 1815.94498 2499.73327 opacity 1 2245.91208 591.20528 3340.5737 2352.75472</td>\n",
       "      <td>5776db0cec75</td>\n",
       "    </tr>\n",
       "    <tr>\n",
       "      <th>1</th>\n",
       "      <td>000c3a3f293f_image</td>\n",
       "      <td>NaN</td>\n",
       "      <td>none 1 0 0 1 1</td>\n",
       "      <td>ff0879eb20ed</td>\n",
       "    </tr>\n",
       "    <tr>\n",
       "      <th>2</th>\n",
       "      <td>0012ff7358bc_image</td>\n",
       "      <td>[{'x': 677.42216, 'y': 197.97662, 'width': 867.79767, 'height': 999.78214}, {'x': 1792.69064, 'y': 402.5525, 'width': 617.02734, 'height': 1204.358}]</td>\n",
       "      <td>opacity 1 677.42216 197.97662 1545.21983 1197.75876 opacity 1 1792.69064 402.5525 2409.71798 1606.9105</td>\n",
       "      <td>9d514ce429a7</td>\n",
       "    </tr>\n",
       "  </tbody>\n",
       "</table>\n",
       "</div>"
      ],
      "text/plain": [
       "                   id  \\\n",
       "0  000a312787f2_image   \n",
       "1  000c3a3f293f_image   \n",
       "2  0012ff7358bc_image   \n",
       "\n",
       "                                                                                                                                                         boxes  \\\n",
       "0  [{'x': 789.28836, 'y': 582.43035, 'width': 1026.65662, 'height': 1917.30292}, {'x': 2245.91208, 'y': 591.20528, 'width': 1094.66162, 'height': 1761.54944}]   \n",
       "1                                                                                                                                                          NaN   \n",
       "2        [{'x': 677.42216, 'y': 197.97662, 'width': 867.79767, 'height': 999.78214}, {'x': 1792.69064, 'y': 402.5525, 'width': 617.02734, 'height': 1204.358}]   \n",
       "\n",
       "                                                                                                     label  \\\n",
       "0  opacity 1 789.28836 582.43035 1815.94498 2499.73327 opacity 1 2245.91208 591.20528 3340.5737 2352.75472   \n",
       "1                                                                                           none 1 0 0 1 1   \n",
       "2   opacity 1 677.42216 197.97662 1545.21983 1197.75876 opacity 1 1792.69064 402.5525 2409.71798 1606.9105   \n",
       "\n",
       "  StudyInstanceUID  \n",
       "0     5776db0cec75  \n",
       "1     ff0879eb20ed  \n",
       "2     9d514ce429a7  "
      ]
     },
     "execution_count": 6,
     "metadata": {},
     "output_type": "execute_result"
    }
   ],
   "source": [
    "df_train_image = pd.read_csv(path_dicom / \"train_image_level.csv\")\n",
    "df_train_image.head(3)"
   ]
  },
  {
   "cell_type": "code",
   "execution_count": 7,
   "metadata": {},
   "outputs": [
    {
     "data": {
      "text/html": [
       "<div>\n",
       "<style scoped>\n",
       "    .dataframe tbody tr th:only-of-type {\n",
       "        vertical-align: middle;\n",
       "    }\n",
       "\n",
       "    .dataframe tbody tr th {\n",
       "        vertical-align: top;\n",
       "    }\n",
       "\n",
       "    .dataframe thead th {\n",
       "        text-align: right;\n",
       "    }\n",
       "</style>\n",
       "<table border=\"1\" class=\"dataframe\">\n",
       "  <thead>\n",
       "    <tr style=\"text-align: right;\">\n",
       "      <th></th>\n",
       "      <th>Negative for Pneumonia</th>\n",
       "      <th>Typical Appearance</th>\n",
       "      <th>Indeterminate Appearance</th>\n",
       "      <th>Atypical Appearance</th>\n",
       "      <th>StudyInstanceUID</th>\n",
       "    </tr>\n",
       "  </thead>\n",
       "  <tbody>\n",
       "    <tr>\n",
       "      <th>0</th>\n",
       "      <td>0</td>\n",
       "      <td>1</td>\n",
       "      <td>0</td>\n",
       "      <td>0</td>\n",
       "      <td>00086460a852</td>\n",
       "    </tr>\n",
       "    <tr>\n",
       "      <th>1</th>\n",
       "      <td>0</td>\n",
       "      <td>0</td>\n",
       "      <td>0</td>\n",
       "      <td>1</td>\n",
       "      <td>000c9c05fd14</td>\n",
       "    </tr>\n",
       "    <tr>\n",
       "      <th>2</th>\n",
       "      <td>1</td>\n",
       "      <td>0</td>\n",
       "      <td>0</td>\n",
       "      <td>0</td>\n",
       "      <td>00292f8c37bd</td>\n",
       "    </tr>\n",
       "  </tbody>\n",
       "</table>\n",
       "</div>"
      ],
      "text/plain": [
       "   Negative for Pneumonia  Typical Appearance  Indeterminate Appearance  \\\n",
       "0                       0                   1                         0   \n",
       "1                       0                   0                         0   \n",
       "2                       1                   0                         0   \n",
       "\n",
       "   Atypical Appearance StudyInstanceUID  \n",
       "0                    0     00086460a852  \n",
       "1                    1     000c9c05fd14  \n",
       "2                    0     00292f8c37bd  "
      ]
     },
     "execution_count": 7,
     "metadata": {},
     "output_type": "execute_result"
    }
   ],
   "source": [
    "df_train_study = pd.read_csv(path_dicom / \"train_study_level.csv\")\n",
    "df_train_study['StudyInstanceUID'] = df_train_study['id'].apply(lambda x: x.replace('_study', ''))\n",
    "del df_train_study['id']\n",
    "df_train_study.head(3)"
   ]
  },
  {
   "cell_type": "code",
   "execution_count": 8,
   "metadata": {},
   "outputs": [],
   "source": [
    "df_image_study = df_train_image.merge(df_train_study, on='StudyInstanceUID')"
   ]
  },
  {
   "cell_type": "markdown",
   "metadata": {},
   "source": [
    "### Load Train_meta CSV"
   ]
  },
  {
   "cell_type": "code",
   "execution_count": 9,
   "metadata": {},
   "outputs": [
    {
     "data": {
      "text/html": [
       "<div>\n",
       "<style scoped>\n",
       "    .dataframe tbody tr th:only-of-type {\n",
       "        vertical-align: middle;\n",
       "    }\n",
       "\n",
       "    .dataframe tbody tr th {\n",
       "        vertical-align: top;\n",
       "    }\n",
       "\n",
       "    .dataframe thead th {\n",
       "        text-align: right;\n",
       "    }\n",
       "</style>\n",
       "<table border=\"1\" class=\"dataframe\">\n",
       "  <thead>\n",
       "    <tr style=\"text-align: right;\">\n",
       "      <th></th>\n",
       "      <th>id</th>\n",
       "      <th>folder_id</th>\n",
       "      <th>study_id</th>\n",
       "      <th>width</th>\n",
       "      <th>height</th>\n",
       "    </tr>\n",
       "  </thead>\n",
       "  <tbody>\n",
       "    <tr>\n",
       "      <th>0</th>\n",
       "      <td>37c3ad608cb3_image</td>\n",
       "      <td>7cc418f2e1b8</td>\n",
       "      <td>c925ca312688</td>\n",
       "      <td>2991</td>\n",
       "      <td>2992</td>\n",
       "    </tr>\n",
       "    <tr>\n",
       "      <th>1</th>\n",
       "      <td>62fb74aea804_image</td>\n",
       "      <td>64db7471fca8</td>\n",
       "      <td>e8ca5a4146ab</td>\n",
       "      <td>3488</td>\n",
       "      <td>4256</td>\n",
       "    </tr>\n",
       "    <tr>\n",
       "      <th>2</th>\n",
       "      <td>1335b56b7a98_image</td>\n",
       "      <td>c1773779a1d8</td>\n",
       "      <td>37ffdf650199</td>\n",
       "      <td>2874</td>\n",
       "      <td>2840</td>\n",
       "    </tr>\n",
       "  </tbody>\n",
       "</table>\n",
       "</div>"
      ],
      "text/plain": [
       "                   id     folder_id      study_id  width  height\n",
       "0  37c3ad608cb3_image  7cc418f2e1b8  c925ca312688   2991    2992\n",
       "1  62fb74aea804_image  64db7471fca8  e8ca5a4146ab   3488    4256\n",
       "2  1335b56b7a98_image  c1773779a1d8  37ffdf650199   2874    2840"
      ]
     },
     "execution_count": 9,
     "metadata": {},
     "output_type": "execute_result"
    }
   ],
   "source": [
    "df_train_meta = pd.read_csv(path_output_patches / \"train_meta.csv\")\n",
    "df_train_meta.head(3)"
   ]
  },
  {
   "cell_type": "code",
   "execution_count": 10,
   "metadata": {},
   "outputs": [
    {
     "data": {
      "text/html": [
       "<div>\n",
       "<style scoped>\n",
       "    .dataframe tbody tr th:only-of-type {\n",
       "        vertical-align: middle;\n",
       "    }\n",
       "\n",
       "    .dataframe tbody tr th {\n",
       "        vertical-align: top;\n",
       "    }\n",
       "\n",
       "    .dataframe thead th {\n",
       "        text-align: right;\n",
       "    }\n",
       "</style>\n",
       "<table border=\"1\" class=\"dataframe\">\n",
       "  <thead>\n",
       "    <tr style=\"text-align: right;\">\n",
       "      <th></th>\n",
       "      <th>id</th>\n",
       "      <th>boxes</th>\n",
       "      <th>label</th>\n",
       "      <th>StudyInstanceUID</th>\n",
       "      <th>folder_id</th>\n",
       "      <th>study_id</th>\n",
       "      <th>width</th>\n",
       "      <th>height</th>\n",
       "    </tr>\n",
       "  </thead>\n",
       "  <tbody>\n",
       "    <tr>\n",
       "      <th>0</th>\n",
       "      <td>000a312787f2_image</td>\n",
       "      <td>[{'x': 789.28836, 'y': 582.43035, 'width': 1026.65662, 'height': 1917.30292}, {'x': 2245.91208, 'y': 591.20528, 'width': 1094.66162, 'height': 1761.54944}]</td>\n",
       "      <td>opacity 1 789.28836 582.43035 1815.94498 2499.73327 opacity 1 2245.91208 591.20528 3340.5737 2352.75472</td>\n",
       "      <td>5776db0cec75</td>\n",
       "      <td>81456c9c5423</td>\n",
       "      <td>5776db0cec75</td>\n",
       "      <td>3488</td>\n",
       "      <td>4256</td>\n",
       "    </tr>\n",
       "    <tr>\n",
       "      <th>1</th>\n",
       "      <td>000c3a3f293f_image</td>\n",
       "      <td>NaN</td>\n",
       "      <td>none 1 0 0 1 1</td>\n",
       "      <td>ff0879eb20ed</td>\n",
       "      <td>d8a644cc4f93</td>\n",
       "      <td>ff0879eb20ed</td>\n",
       "      <td>2320</td>\n",
       "      <td>2832</td>\n",
       "    </tr>\n",
       "    <tr>\n",
       "      <th>2</th>\n",
       "      <td>0012ff7358bc_image</td>\n",
       "      <td>[{'x': 677.42216, 'y': 197.97662, 'width': 867.79767, 'height': 999.78214}, {'x': 1792.69064, 'y': 402.5525, 'width': 617.02734, 'height': 1204.358}]</td>\n",
       "      <td>opacity 1 677.42216 197.97662 1545.21983 1197.75876 opacity 1 1792.69064 402.5525 2409.71798 1606.9105</td>\n",
       "      <td>9d514ce429a7</td>\n",
       "      <td>22897cd1daa0</td>\n",
       "      <td>9d514ce429a7</td>\n",
       "      <td>2544</td>\n",
       "      <td>3056</td>\n",
       "    </tr>\n",
       "  </tbody>\n",
       "</table>\n",
       "</div>"
      ],
      "text/plain": [
       "                   id  \\\n",
       "0  000a312787f2_image   \n",
       "1  000c3a3f293f_image   \n",
       "2  0012ff7358bc_image   \n",
       "\n",
       "                                                                                                                                                         boxes  \\\n",
       "0  [{'x': 789.28836, 'y': 582.43035, 'width': 1026.65662, 'height': 1917.30292}, {'x': 2245.91208, 'y': 591.20528, 'width': 1094.66162, 'height': 1761.54944}]   \n",
       "1                                                                                                                                                          NaN   \n",
       "2        [{'x': 677.42216, 'y': 197.97662, 'width': 867.79767, 'height': 999.78214}, {'x': 1792.69064, 'y': 402.5525, 'width': 617.02734, 'height': 1204.358}]   \n",
       "\n",
       "                                                                                                     label  \\\n",
       "0  opacity 1 789.28836 582.43035 1815.94498 2499.73327 opacity 1 2245.91208 591.20528 3340.5737 2352.75472   \n",
       "1                                                                                           none 1 0 0 1 1   \n",
       "2   opacity 1 677.42216 197.97662 1545.21983 1197.75876 opacity 1 1792.69064 402.5525 2409.71798 1606.9105   \n",
       "\n",
       "  StudyInstanceUID     folder_id      study_id  width  height  \n",
       "0     5776db0cec75  81456c9c5423  5776db0cec75   3488    4256  \n",
       "1     ff0879eb20ed  d8a644cc4f93  ff0879eb20ed   2320    2832  \n",
       "2     9d514ce429a7  22897cd1daa0  9d514ce429a7   2544    3056  "
      ]
     },
     "execution_count": 10,
     "metadata": {},
     "output_type": "execute_result"
    }
   ],
   "source": [
    "#Merge Train_Meta with Train_Image\n",
    "df_train = df_train_image.merge(df_train_meta, on='id')\n",
    "df_train.head(3)"
   ]
  },
  {
   "cell_type": "code",
   "execution_count": 11,
   "metadata": {},
   "outputs": [
    {
     "data": {
      "text/html": [
       "<div>\n",
       "<style scoped>\n",
       "    .dataframe tbody tr th:only-of-type {\n",
       "        vertical-align: middle;\n",
       "    }\n",
       "\n",
       "    .dataframe tbody tr th {\n",
       "        vertical-align: top;\n",
       "    }\n",
       "\n",
       "    .dataframe thead th {\n",
       "        text-align: right;\n",
       "    }\n",
       "</style>\n",
       "<table border=\"1\" class=\"dataframe\">\n",
       "  <thead>\n",
       "    <tr style=\"text-align: right;\">\n",
       "      <th></th>\n",
       "      <th>id</th>\n",
       "      <th>boxes</th>\n",
       "      <th>label</th>\n",
       "      <th>StudyInstanceUID</th>\n",
       "      <th>folder_id</th>\n",
       "      <th>study_id</th>\n",
       "      <th>width</th>\n",
       "      <th>height</th>\n",
       "      <th>Negative for Pneumonia</th>\n",
       "      <th>Typical Appearance</th>\n",
       "      <th>Indeterminate Appearance</th>\n",
       "      <th>Atypical Appearance</th>\n",
       "    </tr>\n",
       "  </thead>\n",
       "  <tbody>\n",
       "    <tr>\n",
       "      <th>0</th>\n",
       "      <td>000a312787f2_image</td>\n",
       "      <td>[{'x': 789.28836, 'y': 582.43035, 'width': 1026.65662, 'height': 1917.30292}, {'x': 2245.91208, 'y': 591.20528, 'width': 1094.66162, 'height': 1761.54944}]</td>\n",
       "      <td>opacity 1 789.28836 582.43035 1815.94498 2499.73327 opacity 1 2245.91208 591.20528 3340.5737 2352.75472</td>\n",
       "      <td>5776db0cec75</td>\n",
       "      <td>81456c9c5423</td>\n",
       "      <td>5776db0cec75</td>\n",
       "      <td>3488</td>\n",
       "      <td>4256</td>\n",
       "      <td>0</td>\n",
       "      <td>1</td>\n",
       "      <td>0</td>\n",
       "      <td>0</td>\n",
       "    </tr>\n",
       "    <tr>\n",
       "      <th>1</th>\n",
       "      <td>000c3a3f293f_image</td>\n",
       "      <td>NaN</td>\n",
       "      <td>none 1 0 0 1 1</td>\n",
       "      <td>ff0879eb20ed</td>\n",
       "      <td>d8a644cc4f93</td>\n",
       "      <td>ff0879eb20ed</td>\n",
       "      <td>2320</td>\n",
       "      <td>2832</td>\n",
       "      <td>1</td>\n",
       "      <td>0</td>\n",
       "      <td>0</td>\n",
       "      <td>0</td>\n",
       "    </tr>\n",
       "    <tr>\n",
       "      <th>2</th>\n",
       "      <td>0012ff7358bc_image</td>\n",
       "      <td>[{'x': 677.42216, 'y': 197.97662, 'width': 867.79767, 'height': 999.78214}, {'x': 1792.69064, 'y': 402.5525, 'width': 617.02734, 'height': 1204.358}]</td>\n",
       "      <td>opacity 1 677.42216 197.97662 1545.21983 1197.75876 opacity 1 1792.69064 402.5525 2409.71798 1606.9105</td>\n",
       "      <td>9d514ce429a7</td>\n",
       "      <td>22897cd1daa0</td>\n",
       "      <td>9d514ce429a7</td>\n",
       "      <td>2544</td>\n",
       "      <td>3056</td>\n",
       "      <td>0</td>\n",
       "      <td>1</td>\n",
       "      <td>0</td>\n",
       "      <td>0</td>\n",
       "    </tr>\n",
       "  </tbody>\n",
       "</table>\n",
       "</div>"
      ],
      "text/plain": [
       "                   id  \\\n",
       "0  000a312787f2_image   \n",
       "1  000c3a3f293f_image   \n",
       "2  0012ff7358bc_image   \n",
       "\n",
       "                                                                                                                                                         boxes  \\\n",
       "0  [{'x': 789.28836, 'y': 582.43035, 'width': 1026.65662, 'height': 1917.30292}, {'x': 2245.91208, 'y': 591.20528, 'width': 1094.66162, 'height': 1761.54944}]   \n",
       "1                                                                                                                                                          NaN   \n",
       "2        [{'x': 677.42216, 'y': 197.97662, 'width': 867.79767, 'height': 999.78214}, {'x': 1792.69064, 'y': 402.5525, 'width': 617.02734, 'height': 1204.358}]   \n",
       "\n",
       "                                                                                                     label  \\\n",
       "0  opacity 1 789.28836 582.43035 1815.94498 2499.73327 opacity 1 2245.91208 591.20528 3340.5737 2352.75472   \n",
       "1                                                                                           none 1 0 0 1 1   \n",
       "2   opacity 1 677.42216 197.97662 1545.21983 1197.75876 opacity 1 1792.69064 402.5525 2409.71798 1606.9105   \n",
       "\n",
       "  StudyInstanceUID     folder_id      study_id  width  height  \\\n",
       "0     5776db0cec75  81456c9c5423  5776db0cec75   3488    4256   \n",
       "1     ff0879eb20ed  d8a644cc4f93  ff0879eb20ed   2320    2832   \n",
       "2     9d514ce429a7  22897cd1daa0  9d514ce429a7   2544    3056   \n",
       "\n",
       "   Negative for Pneumonia  Typical Appearance  Indeterminate Appearance  \\\n",
       "0                       0                   1                         0   \n",
       "1                       1                   0                         0   \n",
       "2                       0                   1                         0   \n",
       "\n",
       "   Atypical Appearance  \n",
       "0                    0  \n",
       "1                    0  \n",
       "2                    0  "
      ]
     },
     "execution_count": 11,
     "metadata": {},
     "output_type": "execute_result"
    }
   ],
   "source": [
    "#Merge Train_Study into Train_Image & Train_Meta\n",
    "df_image_study_meta = df_train.merge(df_train_study, on='StudyInstanceUID')\n",
    "df_image_study_meta.head(3)"
   ]
  },
  {
   "cell_type": "code",
   "execution_count": 12,
   "metadata": {},
   "outputs": [
    {
     "name": "stdout",
     "output_type": "stream",
     "text": [
      "512\n"
     ]
    },
    {
     "data": {
      "text/html": [
       "<div>\n",
       "<style scoped>\n",
       "    .dataframe tbody tr th:only-of-type {\n",
       "        vertical-align: middle;\n",
       "    }\n",
       "\n",
       "    .dataframe tbody tr th {\n",
       "        vertical-align: top;\n",
       "    }\n",
       "\n",
       "    .dataframe thead th {\n",
       "        text-align: right;\n",
       "    }\n",
       "</style>\n",
       "<table border=\"1\" class=\"dataframe\">\n",
       "  <thead>\n",
       "    <tr style=\"text-align: right;\">\n",
       "      <th></th>\n",
       "      <th>id</th>\n",
       "      <th>boxes</th>\n",
       "      <th>label</th>\n",
       "      <th>StudyInstanceUID</th>\n",
       "      <th>folder_id</th>\n",
       "      <th>study_id</th>\n",
       "      <th>width</th>\n",
       "      <th>height</th>\n",
       "      <th>Negative for Pneumonia</th>\n",
       "      <th>Typical Appearance</th>\n",
       "      <th>Indeterminate Appearance</th>\n",
       "      <th>Atypical Appearance</th>\n",
       "      <th>StudyInstanceUID_count</th>\n",
       "    </tr>\n",
       "  </thead>\n",
       "  <tbody>\n",
       "    <tr>\n",
       "      <th>22</th>\n",
       "      <td>00c1515729a8_image</td>\n",
       "      <td>NaN</td>\n",
       "      <td>none 1 0 0 1 1</td>\n",
       "      <td>1a58b43cf286</td>\n",
       "      <td>461096d084ba</td>\n",
       "      <td>1a58b43cf286</td>\n",
       "      <td>2539</td>\n",
       "      <td>3050</td>\n",
       "      <td>0</td>\n",
       "      <td>1</td>\n",
       "      <td>0</td>\n",
       "      <td>0</td>\n",
       "      <td>2</td>\n",
       "    </tr>\n",
       "    <tr>\n",
       "      <th>23</th>\n",
       "      <td>cada5310214b_image</td>\n",
       "      <td>[{'x': 981.75034, 'y': 256.08181, 'width': 225.79065, 'height': 509.18106}, {'x': 323.96213, 'y': 201.93814, 'width': 240.76663, 'height': 480.38121}]</td>\n",
       "      <td>opacity 1 981.75034 256.08181 1207.54099 765.26287 opacity 1 323.96213 201.93814 564.72876 682.31935</td>\n",
       "      <td>1a58b43cf286</td>\n",
       "      <td>0704ff4c28b5</td>\n",
       "      <td>1a58b43cf286</td>\n",
       "      <td>1140</td>\n",
       "      <td>1387</td>\n",
       "      <td>0</td>\n",
       "      <td>1</td>\n",
       "      <td>0</td>\n",
       "      <td>0</td>\n",
       "      <td>2</td>\n",
       "    </tr>\n",
       "    <tr>\n",
       "      <th>25</th>\n",
       "      <td>00e3a7e91a34_image</td>\n",
       "      <td>NaN</td>\n",
       "      <td>none 1 0 0 1 1</td>\n",
       "      <td>74ba8f2badcb</td>\n",
       "      <td>c8755f476425</td>\n",
       "      <td>74ba8f2badcb</td>\n",
       "      <td>1760</td>\n",
       "      <td>2140</td>\n",
       "      <td>1</td>\n",
       "      <td>0</td>\n",
       "      <td>0</td>\n",
       "      <td>0</td>\n",
       "      <td>4</td>\n",
       "    </tr>\n",
       "  </tbody>\n",
       "</table>\n",
       "</div>"
      ],
      "text/plain": [
       "                    id  \\\n",
       "22  00c1515729a8_image   \n",
       "23  cada5310214b_image   \n",
       "25  00e3a7e91a34_image   \n",
       "\n",
       "                                                                                                                                                     boxes  \\\n",
       "22                                                                                                                                                     NaN   \n",
       "23  [{'x': 981.75034, 'y': 256.08181, 'width': 225.79065, 'height': 509.18106}, {'x': 323.96213, 'y': 201.93814, 'width': 240.76663, 'height': 480.38121}]   \n",
       "25                                                                                                                                                     NaN   \n",
       "\n",
       "                                                                                                   label  \\\n",
       "22                                                                                        none 1 0 0 1 1   \n",
       "23  opacity 1 981.75034 256.08181 1207.54099 765.26287 opacity 1 323.96213 201.93814 564.72876 682.31935   \n",
       "25                                                                                        none 1 0 0 1 1   \n",
       "\n",
       "   StudyInstanceUID     folder_id      study_id  width  height  \\\n",
       "22     1a58b43cf286  461096d084ba  1a58b43cf286   2539    3050   \n",
       "23     1a58b43cf286  0704ff4c28b5  1a58b43cf286   1140    1387   \n",
       "25     74ba8f2badcb  c8755f476425  74ba8f2badcb   1760    2140   \n",
       "\n",
       "    Negative for Pneumonia  Typical Appearance  Indeterminate Appearance  \\\n",
       "22                       0                   1                         0   \n",
       "23                       0                   1                         0   \n",
       "25                       1                   0                         0   \n",
       "\n",
       "    Atypical Appearance  StudyInstanceUID_count  \n",
       "22                    0                       2  \n",
       "23                    0                       2  \n",
       "25                    0                       4  "
      ]
     },
     "execution_count": 12,
     "metadata": {},
     "output_type": "execute_result"
    }
   ],
   "source": [
    "# add StudyInstanceUID_count column\n",
    "group_col = 'StudyInstanceUID'\n",
    "df=pd.DataFrame(df_image_study_meta.groupby(group_col)['id'].count())\n",
    "df.columns = [f'{group_col}_count']\n",
    "df_image_study_meta=df_image_study_meta.merge(df.reset_index(), on=group_col)\n",
    "\n",
    "one_study_multi_image_df = df_image_study_meta[df_image_study_meta[f'{group_col}_count'] > 1]\n",
    "print(len(one_study_multi_image_df))\n",
    "df_image_study_meta = df_image_study_meta[df_image_study_meta[f'{group_col}_count'] == 1] # delete 'StudyInstanceUID_count > 1' data\n",
    "one_study_multi_image_df.head(3)"
   ]
  },
  {
   "cell_type": "markdown",
   "metadata": {},
   "source": [
    "### Create record for Each Bounding Box"
   ]
  },
  {
   "cell_type": "code",
   "execution_count": 19,
   "metadata": {},
   "outputs": [],
   "source": [
    "#Fill NaN VAlues in DF\n",
    "df_image_study_meta = df_image_study_meta.fillna(0)"
   ]
  },
  {
   "cell_type": "code",
   "execution_count": 20,
   "metadata": {},
   "outputs": [],
   "source": []
  },
  {
   "cell_type": "code",
   "execution_count": 21,
   "metadata": {},
   "outputs": [],
   "source": [
    "class_names = ['Typical Appearance', 'Indeterminate Appearance', 'Atypical Appearance']\n",
    "classdata2num = {\n",
    "    '[0, 0, 0]': 1,\n",
    "    '[1, 0, 0]': 2,\n",
    "    '[0, 1, 0]': 3,\n",
    "    '[0, 0, 1]': 4\n",
    "}\n",
    "# num2label = {0: 'Negative', 1: 'Typical Appearance', 2: 'Indeterminate Appearance', 3: 'Atypical Appearance'}\n",
    "num2label = {1: 'Negative', 2: 'Typical', 3: 'Indeterminate', 4: 'Atypical'}\n",
    "classmap = num2label"
   ]
  },
  {
   "cell_type": "code",
   "execution_count": 23,
   "metadata": {},
   "outputs": [
    {
     "data": {
      "application/vnd.jupyter.widget-view+json": {
       "model_id": "82a44bea2b9748b685b05e991cbc92c9",
       "version_major": 2,
       "version_minor": 0
      },
      "text/plain": [
       "  0%|          | 0/5822 [00:00<?, ?it/s]"
      ]
     },
     "metadata": {},
     "output_type": "display_data"
    },
    {
     "data": {
      "text/html": [
       "<div>\n",
       "<style scoped>\n",
       "    .dataframe tbody tr th:only-of-type {\n",
       "        vertical-align: middle;\n",
       "    }\n",
       "\n",
       "    .dataframe tbody tr th {\n",
       "        vertical-align: top;\n",
       "    }\n",
       "\n",
       "    .dataframe thead th {\n",
       "        text-align: right;\n",
       "    }\n",
       "</style>\n",
       "<table border=\"1\" class=\"dataframe\">\n",
       "  <thead>\n",
       "    <tr style=\"text-align: right;\">\n",
       "      <th></th>\n",
       "      <th>id</th>\n",
       "      <th>StudyInstanceUID</th>\n",
       "      <th>folder_id</th>\n",
       "      <th>study_id</th>\n",
       "      <th>width</th>\n",
       "      <th>height</th>\n",
       "      <th>xmin</th>\n",
       "      <th>ymin</th>\n",
       "      <th>xmax</th>\n",
       "      <th>ymax</th>\n",
       "      <th>class_id</th>\n",
       "      <th>class_label</th>\n",
       "      <th>Negative for Pneumonia</th>\n",
       "      <th>Typical Appearance</th>\n",
       "      <th>Indeterminate Appearance</th>\n",
       "      <th>Atypical Appearance</th>\n",
       "    </tr>\n",
       "  </thead>\n",
       "  <tbody>\n",
       "    <tr>\n",
       "      <th>0</th>\n",
       "      <td>000a312787f2_image</td>\n",
       "      <td>5776db0cec75</td>\n",
       "      <td>81456c9c5423</td>\n",
       "      <td>5776db0cec75</td>\n",
       "      <td>3488</td>\n",
       "      <td>4256</td>\n",
       "      <td>95</td>\n",
       "      <td>85</td>\n",
       "      <td>218</td>\n",
       "      <td>367</td>\n",
       "      <td>2</td>\n",
       "      <td>Typical</td>\n",
       "      <td>0</td>\n",
       "      <td>1</td>\n",
       "      <td>0</td>\n",
       "      <td>0</td>\n",
       "    </tr>\n",
       "    <tr>\n",
       "      <th>1</th>\n",
       "      <td>000a312787f2_image</td>\n",
       "      <td>5776db0cec75</td>\n",
       "      <td>81456c9c5423</td>\n",
       "      <td>5776db0cec75</td>\n",
       "      <td>3488</td>\n",
       "      <td>4256</td>\n",
       "      <td>270</td>\n",
       "      <td>87</td>\n",
       "      <td>402</td>\n",
       "      <td>345</td>\n",
       "      <td>2</td>\n",
       "      <td>Typical</td>\n",
       "      <td>0</td>\n",
       "      <td>1</td>\n",
       "      <td>0</td>\n",
       "      <td>0</td>\n",
       "    </tr>\n",
       "    <tr>\n",
       "      <th>2</th>\n",
       "      <td>000c3a3f293f_image</td>\n",
       "      <td>ff0879eb20ed</td>\n",
       "      <td>d8a644cc4f93</td>\n",
       "      <td>ff0879eb20ed</td>\n",
       "      <td>2320</td>\n",
       "      <td>2832</td>\n",
       "      <td>0</td>\n",
       "      <td>0</td>\n",
       "      <td>0</td>\n",
       "      <td>0</td>\n",
       "      <td>1</td>\n",
       "      <td>Negative</td>\n",
       "      <td>1</td>\n",
       "      <td>0</td>\n",
       "      <td>0</td>\n",
       "      <td>0</td>\n",
       "    </tr>\n",
       "    <tr>\n",
       "      <th>3</th>\n",
       "      <td>0012ff7358bc_image</td>\n",
       "      <td>9d514ce429a7</td>\n",
       "      <td>22897cd1daa0</td>\n",
       "      <td>9d514ce429a7</td>\n",
       "      <td>2544</td>\n",
       "      <td>3056</td>\n",
       "      <td>113</td>\n",
       "      <td>40</td>\n",
       "      <td>259</td>\n",
       "      <td>241</td>\n",
       "      <td>2</td>\n",
       "      <td>Typical</td>\n",
       "      <td>0</td>\n",
       "      <td>1</td>\n",
       "      <td>0</td>\n",
       "      <td>0</td>\n",
       "    </tr>\n",
       "    <tr>\n",
       "      <th>4</th>\n",
       "      <td>0012ff7358bc_image</td>\n",
       "      <td>9d514ce429a7</td>\n",
       "      <td>22897cd1daa0</td>\n",
       "      <td>9d514ce429a7</td>\n",
       "      <td>2544</td>\n",
       "      <td>3056</td>\n",
       "      <td>300</td>\n",
       "      <td>81</td>\n",
       "      <td>404</td>\n",
       "      <td>323</td>\n",
       "      <td>2</td>\n",
       "      <td>Typical</td>\n",
       "      <td>0</td>\n",
       "      <td>1</td>\n",
       "      <td>0</td>\n",
       "      <td>0</td>\n",
       "    </tr>\n",
       "  </tbody>\n",
       "</table>\n",
       "</div>"
      ],
      "text/plain": [
       "                   id StudyInstanceUID     folder_id      study_id  width  \\\n",
       "0  000a312787f2_image     5776db0cec75  81456c9c5423  5776db0cec75   3488   \n",
       "1  000a312787f2_image     5776db0cec75  81456c9c5423  5776db0cec75   3488   \n",
       "2  000c3a3f293f_image     ff0879eb20ed  d8a644cc4f93  ff0879eb20ed   2320   \n",
       "3  0012ff7358bc_image     9d514ce429a7  22897cd1daa0  9d514ce429a7   2544   \n",
       "4  0012ff7358bc_image     9d514ce429a7  22897cd1daa0  9d514ce429a7   2544   \n",
       "\n",
       "   height  xmin  ymin  xmax  ymax  class_id class_label  \\\n",
       "0    4256    95    85   218   367         2     Typical   \n",
       "1    4256   270    87   402   345         2     Typical   \n",
       "2    2832     0     0     0     0         1    Negative   \n",
       "3    3056   113    40   259   241         2     Typical   \n",
       "4    3056   300    81   404   323         2     Typical   \n",
       "\n",
       "   Negative for Pneumonia  Typical Appearance  Indeterminate Appearance  \\\n",
       "0                       0                   1                         0   \n",
       "1                       0                   1                         0   \n",
       "2                       1                   0                         0   \n",
       "3                       0                   1                         0   \n",
       "4                       0                   1                         0   \n",
       "\n",
       "   Atypical Appearance  \n",
       "0                    0  \n",
       "1                    0  \n",
       "2                    0  \n",
       "3                    0  \n",
       "4                    0  "
      ]
     },
     "execution_count": 23,
     "metadata": {},
     "output_type": "execute_result"
    }
   ],
   "source": [
    "new_size = (params['size'], params['size'])\n",
    "df_idx=0\n",
    "\n",
    "for idx, row in tqdm(df_image_study_meta.iterrows(), total=df_image_study_meta.shape[0]):\n",
    "    img = cv2.imread(os.path.join(\"train\", row.id.replace(\"_image\", \".png\")))\n",
    "\n",
    "    if row.boxes != 0:\n",
    "        bboxes = [list(bbox.values()) for bbox in ast.literal_eval(row.boxes)]\n",
    "    else:\n",
    "        bboxes = [[0,0,1,1]]\n",
    "        \n",
    "    height_ratio, width_ratio = (new_size[0]/row.height, new_size[1]/row.width)\n",
    "    \n",
    "    for box in bboxes:\n",
    "        box[2] = box[2]+box[0]\n",
    "        box[3] = box[3]+box[1]\n",
    "        box = (box[0]*height_ratio, box[1]*width_ratio,\n",
    "               box[2]*height_ratio, box[3]*width_ratio)\n",
    "        \n",
    "        classdata = row[class_names].values\n",
    "        classid = classdata2num[str(classdata.tolist())]\n",
    "        classlabel = num2label[classid]\n",
    "  \n",
    "        \n",
    "        row_df = pd.DataFrame({'id':row.id,\n",
    "                       'StudyInstanceUID':row.StudyInstanceUID,\n",
    "                       'folder_id':row.folder_id,\n",
    "                       'study_id':row.study_id,\n",
    "                       'width':row.width,\n",
    "                       'height':row.height,\n",
    "                       'xmin':round(box[0]),\n",
    "                       'ymin':round(box[1]),\n",
    "                       'xmax':round(box[2]),\n",
    "                       'ymax':round(box[3]),\n",
    "                       'class_id':classid,\n",
    "                       'class_label':classlabel,\n",
    "                       'Negative for Pneumonia': row['Negative for Pneumonia'],\n",
    "                       'Typical Appearance':row['Typical Appearance'],\n",
    "                       'Indeterminate Appearance':row['Indeterminate Appearance'],\n",
    "                       'Atypical Appearance':row['Atypical Appearance']}, index=[df_idx])\n",
    "        if df_idx==0:\n",
    "            df_train_processed = row_df\n",
    "        else:\n",
    "            df_train_processed = pd.concat([df_train_processed, row_df])\n",
    "\n",
    "        df_idx+=1\n",
    "        \n",
    "df_train_processed.head(3)"
   ]
  },
  {
   "cell_type": "code",
   "execution_count": 24,
   "metadata": {},
   "outputs": [
    {
     "data": {
      "text/plain": [
       "(9225, 16)"
      ]
     },
     "execution_count": 24,
     "metadata": {},
     "output_type": "execute_result"
    }
   ],
   "source": [
    "df_train_processed.to_csv(path_output_patches / \"df_train_processed_meta.csv\", index=False)\n",
    "df_train_processed.shape"
   ]
  },
  {
   "cell_type": "markdown",
   "metadata": {},
   "source": [
    "### Check Accuracy of BBoxes & Labels"
   ]
  },
  {
   "cell_type": "code",
   "execution_count": 25,
   "metadata": {},
   "outputs": [],
   "source": [
    "# df_train_image.loc[(df_train_image['StudyInstanceUID'] == 'f4ead5d70ba6')]"
   ]
  },
  {
   "cell_type": "code",
   "execution_count": 26,
   "metadata": {},
   "outputs": [],
   "source": [
    "# df_image_study_meta.loc[(df_image_study_meta['StudyInstanceUID'] == '9d514ce429a7')]"
   ]
  },
  {
   "cell_type": "code",
   "execution_count": 44,
   "metadata": {},
   "outputs": [
    {
     "data": {
      "text/html": [
       "<div>\n",
       "<style scoped>\n",
       "    .dataframe tbody tr th:only-of-type {\n",
       "        vertical-align: middle;\n",
       "    }\n",
       "\n",
       "    .dataframe tbody tr th {\n",
       "        vertical-align: top;\n",
       "    }\n",
       "\n",
       "    .dataframe thead th {\n",
       "        text-align: right;\n",
       "    }\n",
       "</style>\n",
       "<table border=\"1\" class=\"dataframe\">\n",
       "  <thead>\n",
       "    <tr style=\"text-align: right;\">\n",
       "      <th></th>\n",
       "      <th>id</th>\n",
       "      <th>StudyInstanceUID</th>\n",
       "      <th>folder_id</th>\n",
       "      <th>study_id</th>\n",
       "      <th>width</th>\n",
       "      <th>height</th>\n",
       "      <th>xmin</th>\n",
       "      <th>ymin</th>\n",
       "      <th>xmax</th>\n",
       "      <th>ymax</th>\n",
       "      <th>class_id</th>\n",
       "      <th>class_label</th>\n",
       "      <th>Negative for Pneumonia</th>\n",
       "      <th>Typical Appearance</th>\n",
       "      <th>Indeterminate Appearance</th>\n",
       "      <th>Atypical Appearance</th>\n",
       "      <th>target</th>\n",
       "    </tr>\n",
       "  </thead>\n",
       "  <tbody>\n",
       "    <tr>\n",
       "      <th>4386</th>\n",
       "      <td>79f32a83d80f_image</td>\n",
       "      <td>19195bf306ef</td>\n",
       "      <td>bbfd19136f3f</td>\n",
       "      <td>19195bf306ef</td>\n",
       "      <td>3052</td>\n",
       "      <td>3052</td>\n",
       "      <td>137</td>\n",
       "      <td>179</td>\n",
       "      <td>168</td>\n",
       "      <td>203</td>\n",
       "      <td>2</td>\n",
       "      <td>Typical</td>\n",
       "      <td>0</td>\n",
       "      <td>1</td>\n",
       "      <td>0</td>\n",
       "      <td>0</td>\n",
       "      <td>Typical Appearance</td>\n",
       "    </tr>\n",
       "    <tr>\n",
       "      <th>4387</th>\n",
       "      <td>79f32a83d80f_image</td>\n",
       "      <td>19195bf306ef</td>\n",
       "      <td>bbfd19136f3f</td>\n",
       "      <td>19195bf306ef</td>\n",
       "      <td>3052</td>\n",
       "      <td>3052</td>\n",
       "      <td>316</td>\n",
       "      <td>225</td>\n",
       "      <td>407</td>\n",
       "      <td>294</td>\n",
       "      <td>2</td>\n",
       "      <td>Typical</td>\n",
       "      <td>0</td>\n",
       "      <td>1</td>\n",
       "      <td>0</td>\n",
       "      <td>0</td>\n",
       "      <td>Typical Appearance</td>\n",
       "    </tr>\n",
       "    <tr>\n",
       "      <th>4388</th>\n",
       "      <td>79f32a83d80f_image</td>\n",
       "      <td>19195bf306ef</td>\n",
       "      <td>bbfd19136f3f</td>\n",
       "      <td>19195bf306ef</td>\n",
       "      <td>3052</td>\n",
       "      <td>3052</td>\n",
       "      <td>154</td>\n",
       "      <td>239</td>\n",
       "      <td>213</td>\n",
       "      <td>285</td>\n",
       "      <td>2</td>\n",
       "      <td>Typical</td>\n",
       "      <td>0</td>\n",
       "      <td>1</td>\n",
       "      <td>0</td>\n",
       "      <td>0</td>\n",
       "      <td>Typical Appearance</td>\n",
       "    </tr>\n",
       "  </tbody>\n",
       "</table>\n",
       "</div>"
      ],
      "text/plain": [
       "                      id StudyInstanceUID     folder_id      study_id  width  \\\n",
       "4386  79f32a83d80f_image     19195bf306ef  bbfd19136f3f  19195bf306ef   3052   \n",
       "4387  79f32a83d80f_image     19195bf306ef  bbfd19136f3f  19195bf306ef   3052   \n",
       "4388  79f32a83d80f_image     19195bf306ef  bbfd19136f3f  19195bf306ef   3052   \n",
       "\n",
       "      height  xmin  ymin  xmax  ymax  class_id class_label  \\\n",
       "4386    3052   137   179   168   203         2     Typical   \n",
       "4387    3052   316   225   407   294         2     Typical   \n",
       "4388    3052   154   239   213   285         2     Typical   \n",
       "\n",
       "      Negative for Pneumonia  Typical Appearance  Indeterminate Appearance  \\\n",
       "4386                       0                   1                         0   \n",
       "4387                       0                   1                         0   \n",
       "4388                       0                   1                         0   \n",
       "\n",
       "      Atypical Appearance              target  \n",
       "4386                    0  Typical Appearance  \n",
       "4387                    0  Typical Appearance  \n",
       "4388                    0  Typical Appearance  "
      ]
     },
     "execution_count": 44,
     "metadata": {},
     "output_type": "execute_result"
    }
   ],
   "source": [
    "df_train_processed.loc[(df_train_processed['id'] == '79f32a83d80f_image')]"
   ]
  },
  {
   "cell_type": "code",
   "execution_count": 30,
   "metadata": {},
   "outputs": [],
   "source": [
    "# df_train_processed.loc[(df_train_processed['xmin'] == 0) & (df_train_processed['class_id'] != 0)]"
   ]
  },
  {
   "cell_type": "code",
   "execution_count": 31,
   "metadata": {},
   "outputs": [],
   "source": [
    "# df_train_processed.loc[(df_train_processed['class_id'] == 3)]"
   ]
  },
  {
   "cell_type": "markdown",
   "metadata": {},
   "source": [
    "## Analyze Processed Data"
   ]
  },
  {
   "cell_type": "code",
   "execution_count": 32,
   "metadata": {},
   "outputs": [],
   "source": [
    "from bokeh.plotting import figure as bokeh_figure\n",
    "from bokeh.io import output_notebook, show, output_file\n",
    "from bokeh.models import ColumnDataSource, HoverTool, Panel\n",
    "from bokeh.models.widgets import Tabs\n",
    "import pandas as pd\n",
    "from PIL import Image\n",
    "from sklearn import preprocessing\n",
    "import random\n",
    "from random import randint"
   ]
  },
  {
   "cell_type": "code",
   "execution_count": 33,
   "metadata": {},
   "outputs": [],
   "source": [
    "\n",
    "def pie_plot(train_df, variable):\n",
    "    \"\"\"\n",
    "        input: variable ex: \"Sex\"\n",
    "        output: bar plot & value count\n",
    "    \"\"\"\n",
    "    # get feature\n",
    "    var = train_df[variable]\n",
    "    # count number of categorical variable(value/sample)\n",
    "    varValue = var.value_counts()\n",
    "    \n",
    "    # visualize\n",
    "    plt.figure(figsize = (20,10))\n",
    "    plt.pie(varValue, labels=varValue.index, autopct=\"%1.1f%%\")\n",
    "#     plt.xticks(varValue.index, varValue.index.values)\n",
    "#     plt.ylabel(\"Frequency\")\n",
    "    plt.title('target')\n",
    "    plt.show()"
   ]
  },
  {
   "cell_type": "code",
   "execution_count": 34,
   "metadata": {},
   "outputs": [
    {
     "name": "stdout",
     "output_type": "stream",
     "text": [
      "Typical Appearance          2725\n",
      "Negative for Pneumonia      1623\n",
      "Indeterminate Appearance    1007\n",
      "Atypical Appearance          467\n",
      "Name: target, dtype: int64\n"
     ]
    },
    {
     "data": {
      "image/png": "[encoded data removed]",
      "text/plain": [
       "<Figure size 1440x720 with 1 Axes>"
      ]
     },
     "metadata": {},
     "output_type": "display_data"
    }
   ],
   "source": [
    "train = df_image_study_meta\n",
    "    \n",
    "train['target'] = 'Negative for Pneumonia'\n",
    "train.loc[train['Typical Appearance']==1, 'target'] = 'Typical Appearance'\n",
    "train.loc[train['Indeterminate Appearance']==1, 'target'] = 'Indeterminate Appearance'\n",
    "train.loc[train['Atypical Appearance']==1, 'target'] = 'Atypical Appearance'\n",
    "print(train.target.value_counts())\n",
    "pie_plot(train, 'target')   "
   ]
  },
  {
   "cell_type": "code",
   "execution_count": 35,
   "metadata": {},
   "outputs": [
    {
     "name": "stdout",
     "output_type": "stream",
     "text": [
      "Typical Appearance          5616\n",
      "Negative for Pneumonia      1623\n",
      "Indeterminate Appearance    1375\n",
      "Atypical Appearance          611\n",
      "Name: target, dtype: int64\n"
     ]
    },
    {
     "data": {
      "image/png": "[encoded data removed]",
      "text/plain": [
       "<Figure size 1440x720 with 1 Axes>"
      ]
     },
     "metadata": {},
     "output_type": "display_data"
    }
   ],
   "source": [
    "train = df_train_processed\n",
    "    \n",
    "train['target'] = 'Negative for Pneumonia'\n",
    "train.loc[train['Typical Appearance']==1, 'target'] = 'Typical Appearance'\n",
    "train.loc[train['Indeterminate Appearance']==1, 'target'] = 'Indeterminate Appearance'\n",
    "train.loc[train['Atypical Appearance']==1, 'target'] = 'Atypical Appearance'\n",
    "print(train.target.value_counts())\n",
    "pie_plot(train, 'target')   "
   ]
  },
  {
   "cell_type": "markdown",
   "metadata": {},
   "source": [
    "## Load Annotations from Dataset\n"
   ]
  },
  {
   "cell_type": "code",
   "execution_count": 36,
   "metadata": {},
   "outputs": [
    {
     "name": "stdout",
     "output_type": "stream",
     "text": [
      "Annotation Count= 9225\n"
     ]
    }
   ],
   "source": [
    "df_annotations = pd.read_csv(path_output_patches / \"df_train_processed_meta.csv\")\n",
    "print('Annotation Count=', len(df_annotations))\n",
    "# df_annotations.sample(100)"
   ]
  },
  {
   "cell_type": "code",
   "execution_count": 38,
   "metadata": {},
   "outputs": [
    {
     "name": "stdout",
     "output_type": "stream",
     "text": [
      "Cnt of df_annotations= 9225\n",
      "Cnt of df_BBoxes_True= 7504\n",
      "Train image count: 4115\n"
     ]
    }
   ],
   "source": [
    "#Load Unique Image ID's and Remove Images with No BBoxes\n",
    "print('Cnt of df_annotations=', len(df_annotations))\n",
    "df_BBoxes_True = df_annotations.loc[df_annotations['xmin'] != 0]\n",
    "print('Cnt of df_BBoxes_True=', len(df_BBoxes_True))\n",
    "train_img_ids = df_BBoxes_True.id.unique()\n",
    "\n",
    "print(f\"Train image count: {len(train_img_ids)}\")"
   ]
  },
  {
   "cell_type": "markdown",
   "metadata": {},
   "source": [
    "## Generate COCO Dataset\n"
   ]
  },
  {
   "cell_type": "code",
   "execution_count": 39,
   "metadata": {},
   "outputs": [],
   "source": [
    "now = datetime.datetime.now()\n",
    "\n",
    "data = dict(\n",
    "    info=dict(\n",
    "        description='SIIM Covid-19 GroupKfold',\n",
    "        url=None,\n",
    "        version=None,\n",
    "        year=now.year,\n",
    "        contributor=None,\n",
    "        date_created=now.strftime('%Y-%m-%d %H:%M:%S.%f'),\n",
    "    ),\n",
    "    licenses=[dict(\n",
    "        url=None,\n",
    "        id=0,\n",
    "        name=None,\n",
    "    )],\n",
    "    images=[\n",
    "        # license, url, file_name, height, width, date_captured, id\n",
    "    ],\n",
    "    type='instances',\n",
    "    annotations=[\n",
    "        # segmentation, area, iscrowd, image_id, bbox, category_id, id\n",
    "    ],\n",
    "    categories=[\n",
    "        # supercategory, id, name\n",
    "    ],\n",
    ")"
   ]
  },
  {
   "cell_type": "code",
   "execution_count": 40,
   "metadata": {},
   "outputs": [],
   "source": [
    "#Generate Categories section of COCO\n",
    "for key, value in classmap.items():\n",
    "    data['categories'].append(dict(\n",
    "        supercategory=None,\n",
    "        id=key,\n",
    "        name=value,\n",
    "    ))\n",
    "    \n",
    "# data"
   ]
  },
  {
   "cell_type": "code",
   "execution_count": 41,
   "metadata": {},
   "outputs": [],
   "source": [
    "H, W = (params['size'], params['size'])\n",
    "\n",
    "## Setting the output annotation json file paths\n",
    "train_out_file = 'coco_train_annotations_' + str(params['size']) + 'px.json'\n"
   ]
  },
  {
   "cell_type": "code",
   "execution_count": 42,
   "metadata": {},
   "outputs": [
    {
     "data": {
      "application/vnd.jupyter.widget-view+json": {
       "model_id": "fb8dd46cd3344410ba6918f0e46e1158",
       "version_major": 2,
       "version_minor": 0
      },
      "text/plain": [
       "  0%|          | 0/4115 [00:00<?, ?it/s]"
      ]
     },
     "metadata": {},
     "output_type": "display_data"
    }
   ],
   "source": [
    "#Generate images and annotations sections of COCO\n",
    "data_train = data.copy()\n",
    "data_train['images'] = []\n",
    "data_train['annotations'] = []\n",
    "\n",
    "for i, img_id in tqdm(enumerate(train_img_ids), total=len(train_img_ids)):\n",
    "\n",
    "    data_train['images'].append(dict(license=0,\n",
    "                                     url=None,\n",
    "                                     file_name=img_id+'.png',\n",
    "                                     height=H,\n",
    "                                     width=W,\n",
    "                                     date_captured=None,\n",
    "                                     id=i\n",
    "                                    ))\n",
    "\n",
    "    img_annotations = df_annotations[df_annotations.id==img_id]\n",
    "\n",
    "    for idx, row in img_annotations.iterrows():\n",
    "        x_min, y_min, x_max, y_max = [row['xmin'], row['ymin'], row['xmax'], row['ymax']]\n",
    "        area = round((x_max-x_min)*(y_max-y_min),1)\n",
    "        bbox =[\n",
    "                int(x_min),\n",
    "                int(y_min),\n",
    "                int(x_max-x_min),\n",
    "                int(y_max-y_min)\n",
    "                ]\n",
    "\n",
    "        data_train['annotations'].append(dict(id=len(data_train['annotations']),\n",
    "                                              image_id=i,\n",
    "                                              category_id=int(row['class_id']),\n",
    "                                              area=int(area),\n",
    "                                              bbox=bbox,\n",
    "                                              iscrowd=0)) "
   ]
  },
  {
   "cell_type": "code",
   "execution_count": 43,
   "metadata": {},
   "outputs": [],
   "source": [
    "with open(path_output_patches / train_out_file, 'w') as f:\n",
    "    json.dump(data_train, f, indent=4)"
   ]
  },
  {
   "cell_type": "markdown",
   "metadata": {},
   "source": [
    "<p style='text-align: center;'><span style=\"color: #000508; font-family: Segoe UI; font-size: 1.4em; font-weight: 300;\">Let me know if you have any suggestions!</span></p>\n",
    "\n",
    "<p style='text-align: center;'><span style=\"color: #000508; font-family: Segoe UI; font-size: 2.0em; font-weight: 300;\">THANKS!</span></p>"
   ]
  }
 ],
 "metadata": {
  "kernelspec": {
   "display_name": "(venv) siim-covid19",
   "language": "python",
   "name": "siim-covid19"
  },
  "language_info": {
   "name": "python",
   "version": ""
  }
 },
 "nbformat": 4,
 "nbformat_minor": 4
}