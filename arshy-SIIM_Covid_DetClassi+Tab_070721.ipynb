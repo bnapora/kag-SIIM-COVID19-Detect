{
 "cells": [
  {
   "cell_type": "code",
   "execution_count": 1,
   "metadata": {
    "colab": {
     "base_uri": "https://localhost:8080/"
    },
    "id": "sVClrHYXFAtb",
    "outputId": "56d7ecca-afd0-4b83-b93f-3d5ffcbf464f"
   },
   "outputs": [
    {
     "data": {
      "text/plain": [
       "11"
      ]
     },
     "execution_count": 1,
     "metadata": {},
     "output_type": "execute_result"
    }
   ],
   "source": [
    "import torch\n",
    "\n",
    "cuda_version_major = int(torch.version.cuda.split('.')[0])\n",
    "cuda_version_major"
   ]
  },
  {
   "cell_type": "code",
   "execution_count": 2,
   "metadata": {
    "colab": {
     "base_uri": "https://localhost:8080/"
    },
    "id": "dwknOfVwAEB-",
    "outputId": "f9a2bbe7-474e-4665-dd4e-0f7e6be979c9"
   },
   "outputs": [],
   "source": [
    "# !wget https://raw.githubusercontent.com/airctic/icevision/master/install_colab.sh\n",
    "# !bash install_colab.sh {cuda_version_major}"
   ]
  },
  {
   "cell_type": "code",
   "execution_count": 3,
   "metadata": {
    "colab": {
     "base_uri": "https://localhost:8080/"
    },
    "id": "LH4Z4XtsFRq_",
    "outputId": "696fc74d-892e-4e51-d256-3e11ed5594c4"
   },
   "outputs": [],
   "source": [
    "# # Restart kernel\n",
    "# import IPython\n",
    "# IPython.Application.instance().kernel.do_shutdown(True)"
   ]
  },
  {
   "cell_type": "code",
   "execution_count": 2,
   "metadata": {
    "colab": {
     "base_uri": "https://localhost:8080/",
     "height": 119,
     "referenced_widgets": [
      "d58e80e302fc416dac8381f12f937e4c",
      "fc86c940d8784019a2834a16c329d506",
      "4ecec3524af640a0b8e3f92a3c52be88",
      "4b5d064611e54876b67017731d3278a8",
      "f767b5769e0f409ea4dc305f2a7bcec1",
      "c41602aad1ed4ef6a7d3260765ce7cff",
      "88a4665a3ddf4166bed653a77e335194",
      "1d77307ce9f14cff9877a39f1071ed19",
      "c7d0f87eec9b44dd8c56fe817482c83c",
      "68f9f4a7f6054818998f4115f81d344e",
      "b92fc53fc3f541b99f0372e633e2c59d"
     ]
    },
    "id": "kchsyhaZPKzw",
    "outputId": "5b79509c-ef8c-4d9e-97eb-9e50d96859c6"
   },
   "outputs": [
    {
     "name": "stdout",
     "output_type": "stream",
     "text": [
      "2.3.1 0.8.0 1.8.0+cu111\n"
     ]
    }
   ],
   "source": [
    "import fastai, icevision, torch\n",
    "print(fastai.__version__, icevision.__version__, torch.__version__)"
   ]
  },
  {
   "cell_type": "code",
   "execution_count": 5,
   "metadata": {
    "id": "pfb39sBSAWCo"
   },
   "outputs": [],
   "source": [
    "import pandas as pd\n",
    "import numpy as np\n",
    "import timm\n",
    "import torch\n",
    "from torch import tensor\n",
    "from torch import nn\n",
    "from pathlib import Path\n",
    "from collections import namedtuple \n",
    "from sklearn.model_selection import StratifiedKFold"
   ]
  },
  {
   "cell_type": "code",
   "execution_count": 6,
   "metadata": {
    "id": "uTHbqfuTCySk"
   },
   "outputs": [],
   "source": [
    "from torch.cuda.amp import GradScaler,autocast\n",
    "from torch.cuda.amp.grad_scaler import OptState"
   ]
  },
  {
   "cell_type": "code",
   "execution_count": 7,
   "metadata": {
    "id": "2X5lERAoP-0J"
   },
   "outputs": [],
   "source": [
    "from icevision.core import ClassMap, IDMap\n",
    "from icevision.core.bbox import BBox\n",
    "from icevision.core.tasks import Task\n",
    "from icevision.models.ross.efficientdet.dataloaders import process_train_record, build_infer_batch\n",
    "from icevision.models.ross.efficientdet import convert_raw_predictions\n",
    "from icevision.core.record import BaseRecord\n",
    "from icevision.core.record_components import (FilepathRecordComponent, InstancesLabelsRecordComponent, \n",
    "                                              BBoxesRecordComponent, ClassificationLabelsRecordComponent, \n",
    "                                              ScoresRecordComponent)\n",
    "from icevision.parsers.parser import Parser\n",
    "from icevision.data import FixedSplitter\n",
    "from icevision.data.dataset import Dataset\n",
    "from icevision import tfms\n",
    "from icevision.models.utils import transform_dl\n",
    "from icevision.metrics.coco_metric import COCOMetricType, COCOMetric\n",
    "from icevision.models.utils import apply_batch_tfms, unload_records"
   ]
  },
  {
   "cell_type": "code",
   "execution_count": 8,
   "metadata": {
    "id": "_-XbbovKP_UH"
   },
   "outputs": [],
   "source": [
    "from effdet import get_efficientdet_config, create_model_from_config, unwrap_bench, create_model, load_checkpoint\n",
    "from effdet.bench import _post_process, _batch_detection\n",
    "from effdet.config import set_config_readonly, set_config_writeable\n",
    "from effdet.efficientdet import get_feature_info, BiFpn, BiFpnLayer, HeadNet, _init_weight, _init_weight_alt\n",
    "from effdet.loss import DetectionLoss\n",
    "from effdet.anchors import Anchors, AnchorLabeler"
   ]
  },
  {
   "cell_type": "code",
   "execution_count": 9,
   "metadata": {
    "id": "wOJVvAYTQBba"
   },
   "outputs": [],
   "source": [
    "from fastai.tabular.core import TabularPandas, Categorify, FillMissing, Normalize\n",
    "from fastai.tabular.model import get_emb_sz, TabularModel\n",
    "from fastai.data.block import CategoryBlock\n",
    "from fastai.vision.learner import create_head\n",
    "from fastai.callback.hook import num_features_model\n",
    "from fastai.callback.core import Callback\n",
    "from fastai.callback.tracker import SaveModelCallback, CancelStepException\n",
    "from fastai.optimizer import ranger\n",
    "from fastai.losses import CrossEntropyLossFlat\n",
    "from fastai.torch_core import params\n",
    "from fastai.data.load import DataLoader\n",
    "from fastai.learner import Learner\n",
    "from fastai.torch_core import to_float,set_seed, find_bs\n",
    "from fastai.metrics import flatten_check, Metric\n",
    "from fastai.torch_core import apply_init"
   ]
  },
  {
   "cell_type": "markdown",
   "metadata": {},
   "source": []
  },
  {
   "cell_type": "code",
   "execution_count": 10,
   "metadata": {
    "id": "ydrMzmT6QUho"
   },
   "outputs": [],
   "source": [
    "from fastcore.all import *"
   ]
  },
  {
   "cell_type": "code",
   "execution_count": 11,
   "metadata": {
    "id": "XnkkBpuvQWg7"
   },
   "outputs": [],
   "source": [
    "ImgSize = namedtuple(\"ImgSize\", \"width,height\")"
   ]
  },
  {
   "cell_type": "code",
   "execution_count": 12,
   "metadata": {
    "colab": {
     "base_uri": "https://localhost:8080/"
    },
    "id": "mp4GlFLwAZel",
    "outputId": "db57f4b1-d1e1-4afd-d284-85e3fdded9c0"
   },
   "outputs": [],
   "source": [
    "# from google.colab import drive\n",
    "# drive.mount('/content/drive')"
   ]
  },
  {
   "cell_type": "markdown",
   "metadata": {
    "id": "3shBOpEfQXgv"
   },
   "source": [
    "# Paths and preparing df"
   ]
  },
  {
   "cell_type": "code",
   "execution_count": 13,
   "metadata": {
    "id": "XS6Lf2AXKg6U"
   },
   "outputs": [],
   "source": [
    "sz=512\n",
    "bs=4\n",
    "N_FOLDS = 3\n",
    "set_seed(42)"
   ]
  },
  {
   "cell_type": "code",
   "execution_count": 14,
   "metadata": {
    "id": "A33aUjtlQOtM"
   },
   "outputs": [],
   "source": [
    "path = Path('/host_Data/Datasets/Kaggle-SIIM-Covid19/siim-covid_resize_512px')\n",
    "path_img = path / 'train'"
   ]
  },
  {
   "cell_type": "code",
   "execution_count": 15,
   "metadata": {
    "id": "2Yg4Ws-KQpj_"
   },
   "outputs": [],
   "source": [
    "dcm_df = pd.read_csv(path/'COVID_dcm_metadata.csv')\n",
    "train_df = pd.read_csv(path/'COVID_train_df.csv')\n",
    "meta_df = pd.read_csv(path/'meta.csv')"
   ]
  },
  {
   "cell_type": "code",
   "execution_count": 27,
   "metadata": {
    "id": "Q5Vwt-McLO_X"
   },
   "outputs": [
    {
     "data": {
      "text/html": [
       "<div>\n",
       "<style scoped>\n",
       "    .dataframe tbody tr th:only-of-type {\n",
       "        vertical-align: middle;\n",
       "    }\n",
       "\n",
       "    .dataframe tbody tr th {\n",
       "        vertical-align: top;\n",
       "    }\n",
       "\n",
       "    .dataframe thead th {\n",
       "        text-align: right;\n",
       "    }\n",
       "</style>\n",
       "<table border=\"1\" class=\"dataframe\">\n",
       "  <thead>\n",
       "    <tr style=\"text-align: right;\">\n",
       "      <th></th>\n",
       "      <th>image_id</th>\n",
       "      <th>dim0</th>\n",
       "      <th>dim1</th>\n",
       "      <th>split</th>\n",
       "    </tr>\n",
       "  </thead>\n",
       "  <tbody>\n",
       "    <tr>\n",
       "      <th>0</th>\n",
       "      <td>d8ba599611e5</td>\n",
       "      <td>2336</td>\n",
       "      <td>2836</td>\n",
       "      <td>train</td>\n",
       "    </tr>\n",
       "    <tr>\n",
       "      <th>1</th>\n",
       "      <td>29b23a11d1e4</td>\n",
       "      <td>3488</td>\n",
       "      <td>4256</td>\n",
       "      <td>train</td>\n",
       "    </tr>\n",
       "    <tr>\n",
       "      <th>2</th>\n",
       "      <td>8174f49500a5</td>\n",
       "      <td>2330</td>\n",
       "      <td>2846</td>\n",
       "      <td>train</td>\n",
       "    </tr>\n",
       "    <tr>\n",
       "      <th>3</th>\n",
       "      <td>d54f6204b044</td>\n",
       "      <td>2330</td>\n",
       "      <td>2846</td>\n",
       "      <td>train</td>\n",
       "    </tr>\n",
       "    <tr>\n",
       "      <th>4</th>\n",
       "      <td>d51cadde8626</td>\n",
       "      <td>3488</td>\n",
       "      <td>4256</td>\n",
       "      <td>train</td>\n",
       "    </tr>\n",
       "  </tbody>\n",
       "</table>\n",
       "</div>"
      ],
      "text/plain": [
       "       image_id  dim0  dim1  split\n",
       "0  d8ba599611e5  2336  2836  train\n",
       "1  29b23a11d1e4  3488  4256  train\n",
       "2  8174f49500a5  2330  2846  train\n",
       "3  d54f6204b044  2330  2846  train\n",
       "4  d51cadde8626  3488  4256  train"
      ]
     },
     "execution_count": 27,
     "metadata": {},
     "output_type": "execute_result"
    }
   ],
   "source": [
    "meta_df = meta_df[meta_df['split'] == 'train']\n",
    "meta_df.head()"
   ]
  },
  {
   "cell_type": "code",
   "execution_count": 17,
   "metadata": {
    "id": "A0TpIXNLQksJ"
   },
   "outputs": [],
   "source": [
    "train_df['image_id'] = train_df['id'].apply(lambda x: f'{x.split(\"_image\")[0]}')\n",
    "train_df['classi_label'] = train_df[['Negative for Pneumonia', 'Typical Appearance','Indeterminate Appearance', 'Atypical Appearance']].idxmax(1)\n",
    "train_df = train_df[['image_id', 'classi_label', 'label', 'StudyInstanceUID']]"
   ]
  },
  {
   "cell_type": "code",
   "execution_count": 19,
   "metadata": {
    "id": "p7ihqY3URLV3"
   },
   "outputs": [],
   "source": [
    "dcm_df = dcm_df[['fname', 'Modality', 'PatientSex']]\n",
    "dcm_df['image_id'] = dcm_df.fname.apply(lambda x: f'{x.split(\"/\")[-1].split(\".dcm\")[0]}')\n",
    "train_df = train_df.merge(dcm_df, on='image_id')\n",
    "# train_df.head()"
   ]
  },
  {
   "cell_type": "code",
   "execution_count": 20,
   "metadata": {},
   "outputs": [
    {
     "data": {
      "text/html": [
       "<div>\n",
       "<style scoped>\n",
       "    .dataframe tbody tr th:only-of-type {\n",
       "        vertical-align: middle;\n",
       "    }\n",
       "\n",
       "    .dataframe tbody tr th {\n",
       "        vertical-align: top;\n",
       "    }\n",
       "\n",
       "    .dataframe thead th {\n",
       "        text-align: right;\n",
       "    }\n",
       "</style>\n",
       "<table border=\"1\" class=\"dataframe\">\n",
       "  <thead>\n",
       "    <tr style=\"text-align: right;\">\n",
       "      <th></th>\n",
       "      <th>image_id</th>\n",
       "      <th>classi_label</th>\n",
       "      <th>label</th>\n",
       "      <th>StudyInstanceUID</th>\n",
       "      <th>fname</th>\n",
       "      <th>Modality</th>\n",
       "      <th>PatientSex</th>\n",
       "    </tr>\n",
       "  </thead>\n",
       "  <tbody>\n",
       "    <tr>\n",
       "      <th>0</th>\n",
       "      <td>000a312787f2</td>\n",
       "      <td>Typical Appearance</td>\n",
       "      <td>opacity 1 789.28836 582.43035 1815.94498 2499.73327 opacity 1 2245.91208 591.20528 3340.5737 2352.75472</td>\n",
       "      <td>5776db0cec75_study</td>\n",
       "      <td>/host_Data/Datasets/Kaggle-SIIM-Covid19/siim-covid19-detection/train/5776db0cec75/81456c9c5423/000a312787f2.dcm</td>\n",
       "      <td>DX</td>\n",
       "      <td>M</td>\n",
       "    </tr>\n",
       "    <tr>\n",
       "      <th>1</th>\n",
       "      <td>000c3a3f293f</td>\n",
       "      <td>Negative for Pneumonia</td>\n",
       "      <td>none 1 0 0 1 1</td>\n",
       "      <td>ff0879eb20ed_study</td>\n",
       "      <td>/host_Data/Datasets/Kaggle-SIIM-Covid19/siim-covid19-detection/train/ff0879eb20ed/d8a644cc4f93/000c3a3f293f.dcm</td>\n",
       "      <td>CR</td>\n",
       "      <td>M</td>\n",
       "    </tr>\n",
       "    <tr>\n",
       "      <th>2</th>\n",
       "      <td>0012ff7358bc</td>\n",
       "      <td>Typical Appearance</td>\n",
       "      <td>opacity 1 677.42216 197.97662 1545.21983 1197.75876 opacity 1 1792.69064 402.5525 2409.71798 1606.9105</td>\n",
       "      <td>9d514ce429a7_study</td>\n",
       "      <td>/host_Data/Datasets/Kaggle-SIIM-Covid19/siim-covid19-detection/train/9d514ce429a7/22897cd1daa0/0012ff7358bc.dcm</td>\n",
       "      <td>DX</td>\n",
       "      <td>F</td>\n",
       "    </tr>\n",
       "    <tr>\n",
       "      <th>3</th>\n",
       "      <td>001398f4ff4f</td>\n",
       "      <td>Atypical Appearance</td>\n",
       "      <td>opacity 1 2729 2181.33331 3677.00012 2785.33331</td>\n",
       "      <td>28dddc8559b2_study</td>\n",
       "      <td>/host_Data/Datasets/Kaggle-SIIM-Covid19/siim-covid19-detection/train/28dddc8559b2/4d47bc042ee6/001398f4ff4f.dcm</td>\n",
       "      <td>CR</td>\n",
       "      <td>F</td>\n",
       "    </tr>\n",
       "    <tr>\n",
       "      <th>4</th>\n",
       "      <td>001bd15d1891</td>\n",
       "      <td>Typical Appearance</td>\n",
       "      <td>opacity 1 623.23328 1050 1337.23328 2156 opacity 1 2578.56661 998.66667 3241.23328 2118.66667</td>\n",
       "      <td>dfd9fdd85a3e_study</td>\n",
       "      <td>/host_Data/Datasets/Kaggle-SIIM-Covid19/siim-covid19-detection/train/dfd9fdd85a3e/49170afa4f27/001bd15d1891.dcm</td>\n",
       "      <td>DX</td>\n",
       "      <td>M</td>\n",
       "    </tr>\n",
       "  </tbody>\n",
       "</table>\n",
       "</div>"
      ],
      "text/plain": [
       "       image_id            classi_label  \\\n",
       "0  000a312787f2      Typical Appearance   \n",
       "1  000c3a3f293f  Negative for Pneumonia   \n",
       "2  0012ff7358bc      Typical Appearance   \n",
       "3  001398f4ff4f     Atypical Appearance   \n",
       "4  001bd15d1891      Typical Appearance   \n",
       "\n",
       "                                                                                                     label  \\\n",
       "0  opacity 1 789.28836 582.43035 1815.94498 2499.73327 opacity 1 2245.91208 591.20528 3340.5737 2352.75472   \n",
       "1                                                                                           none 1 0 0 1 1   \n",
       "2   opacity 1 677.42216 197.97662 1545.21983 1197.75876 opacity 1 1792.69064 402.5525 2409.71798 1606.9105   \n",
       "3                                                          opacity 1 2729 2181.33331 3677.00012 2785.33331   \n",
       "4            opacity 1 623.23328 1050 1337.23328 2156 opacity 1 2578.56661 998.66667 3241.23328 2118.66667   \n",
       "\n",
       "     StudyInstanceUID  \\\n",
       "0  5776db0cec75_study   \n",
       "1  ff0879eb20ed_study   \n",
       "2  9d514ce429a7_study   \n",
       "3  28dddc8559b2_study   \n",
       "4  dfd9fdd85a3e_study   \n",
       "\n",
       "                                                                                                             fname  \\\n",
       "0  /host_Data/Datasets/Kaggle-SIIM-Covid19/siim-covid19-detection/train/5776db0cec75/81456c9c5423/000a312787f2.dcm   \n",
       "1  /host_Data/Datasets/Kaggle-SIIM-Covid19/siim-covid19-detection/train/ff0879eb20ed/d8a644cc4f93/000c3a3f293f.dcm   \n",
       "2  /host_Data/Datasets/Kaggle-SIIM-Covid19/siim-covid19-detection/train/9d514ce429a7/22897cd1daa0/0012ff7358bc.dcm   \n",
       "3  /host_Data/Datasets/Kaggle-SIIM-Covid19/siim-covid19-detection/train/28dddc8559b2/4d47bc042ee6/001398f4ff4f.dcm   \n",
       "4  /host_Data/Datasets/Kaggle-SIIM-Covid19/siim-covid19-detection/train/dfd9fdd85a3e/49170afa4f27/001bd15d1891.dcm   \n",
       "\n",
       "  Modality PatientSex  \n",
       "0       DX          M  \n",
       "1       CR          M  \n",
       "2       DX          F  \n",
       "3       CR          F  \n",
       "4       DX          M  "
      ]
     },
     "execution_count": 20,
     "metadata": {},
     "output_type": "execute_result"
    }
   ],
   "source": [
    "train_df.head()"
   ]
  },
  {
   "cell_type": "code",
   "execution_count": 21,
   "metadata": {
    "id": "k7o2TfSxK-LJ"
   },
   "outputs": [],
   "source": []
  },
  {
   "cell_type": "code",
   "execution_count": 22,
   "metadata": {
    "id": "czJXDw7KK_Qs"
   },
   "outputs": [],
   "source": [
    "train_df['bboxes'] = train_df['label'].apply(lambda x: get_bboxes(x))\n",
    "train_df = train_df.merge(meta_df, left_on='image_id', right_on='image_id')"
   ]
  },
  {
   "cell_type": "code",
   "execution_count": 23,
   "metadata": {
    "id": "_vpzkZMYROqb"
   },
   "outputs": [],
   "source": [
    "train_df['Modality_n'] = train_df['Modality'].map({'DX':0, 'CR':1})\n",
    "train_df['PatientSex_n'] = train_df['PatientSex'].map({'M':0, 'F':1})"
   ]
  },
  {
   "cell_type": "code",
   "execution_count": 24,
   "metadata": {
    "id": "lqiMDGb-NQKX"
   },
   "outputs": [],
   "source": [
    "def get_scaled_bbox(row, sz):\n",
    "    x_scale = row.dim1/sz\n",
    "    y_scale = row.dim0/sz\n",
    "    \n",
    "    rescaled_bboxes = []\n",
    "    if row.bboxes != None:\n",
    "        for bbox in row.bboxes:\n",
    "            rescaled_bboxes.append( np.array(bbox) / np.array([x_scale, y_scale, x_scale, y_scale]))\n",
    "            \n",
    "        return rescaled_bboxes\n",
    "    else:\n",
    "        return None"
   ]
  },
  {
   "cell_type": "code",
   "execution_count": 25,
   "metadata": {
    "id": "VxxOKV-LNRQx"
   },
   "outputs": [],
   "source": [
    "train_df['rescaled_bboxes'] = train_df.apply(lambda row: get_scaled_bbox(row, 512), axis=1)\n",
    "train_df['rescaled_bboxes'] = train_df['rescaled_bboxes'].apply(lambda x: [[0, 0,  1, 1]] if x == None else x)\n",
    "train_df['box_label'] = train_df['label'].apply(lambda x: x.split(' ')[0])"
   ]
  },
  {
   "cell_type": "code",
   "execution_count": 26,
   "metadata": {},
   "outputs": [
    {
     "data": {
      "text/html": [
       "<div>\n",
       "<style scoped>\n",
       "    .dataframe tbody tr th:only-of-type {\n",
       "        vertical-align: middle;\n",
       "    }\n",
       "\n",
       "    .dataframe tbody tr th {\n",
       "        vertical-align: top;\n",
       "    }\n",
       "\n",
       "    .dataframe thead th {\n",
       "        text-align: right;\n",
       "    }\n",
       "</style>\n",
       "<table border=\"1\" class=\"dataframe\">\n",
       "  <thead>\n",
       "    <tr style=\"text-align: right;\">\n",
       "      <th></th>\n",
       "      <th>image_id</th>\n",
       "      <th>classi_label</th>\n",
       "      <th>label</th>\n",
       "      <th>StudyInstanceUID</th>\n",
       "      <th>fname</th>\n",
       "      <th>Modality</th>\n",
       "      <th>PatientSex</th>\n",
       "      <th>bboxes</th>\n",
       "      <th>dim0</th>\n",
       "      <th>dim1</th>\n",
       "      <th>split</th>\n",
       "      <th>Modality_n</th>\n",
       "      <th>PatientSex_n</th>\n",
       "      <th>rescaled_bboxes</th>\n",
       "      <th>box_label</th>\n",
       "    </tr>\n",
       "  </thead>\n",
       "  <tbody>\n",
       "    <tr>\n",
       "      <th>0</th>\n",
       "      <td>000a312787f2</td>\n",
       "      <td>Typical Appearance</td>\n",
       "      <td>opacity 1 789.28836 582.43035 1815.94498 2499.73327 opacity 1 2245.91208 591.20528 3340.5737 2352.75472</td>\n",
       "      <td>5776db0cec75_study</td>\n",
       "      <td>/host_Data/Datasets/Kaggle-SIIM-Covid19/siim-covid19-detection/train/5776db0cec75/81456c9c5423/000a312787f2.dcm</td>\n",
       "      <td>DX</td>\n",
       "      <td>M</td>\n",
       "      <td>[[789.28836, 582.43035, 1815.94498, 2499.73327], [2245.91208, 591.20528, 3340.5737, 2352.75472]]</td>\n",
       "      <td>3488</td>\n",
       "      <td>4256</td>\n",
       "      <td>train</td>\n",
       "      <td>0</td>\n",
       "      <td>0</td>\n",
       "      <td>[[94.95198315789474, 85.49436330275229, 218.45954646616542, 366.9333240366973], [270.18491187969926, 86.78242642201835, 401.8735278195489, 345.3584910091743]]</td>\n",
       "      <td>opacity</td>\n",
       "    </tr>\n",
       "    <tr>\n",
       "      <th>1</th>\n",
       "      <td>000c3a3f293f</td>\n",
       "      <td>Negative for Pneumonia</td>\n",
       "      <td>none 1 0 0 1 1</td>\n",
       "      <td>ff0879eb20ed_study</td>\n",
       "      <td>/host_Data/Datasets/Kaggle-SIIM-Covid19/siim-covid19-detection/train/ff0879eb20ed/d8a644cc4f93/000c3a3f293f.dcm</td>\n",
       "      <td>CR</td>\n",
       "      <td>M</td>\n",
       "      <td>None</td>\n",
       "      <td>2320</td>\n",
       "      <td>2832</td>\n",
       "      <td>train</td>\n",
       "      <td>1</td>\n",
       "      <td>0</td>\n",
       "      <td>[[0, 0, 1, 1]]</td>\n",
       "      <td>none</td>\n",
       "    </tr>\n",
       "    <tr>\n",
       "      <th>2</th>\n",
       "      <td>0012ff7358bc</td>\n",
       "      <td>Typical Appearance</td>\n",
       "      <td>opacity 1 677.42216 197.97662 1545.21983 1197.75876 opacity 1 1792.69064 402.5525 2409.71798 1606.9105</td>\n",
       "      <td>9d514ce429a7_study</td>\n",
       "      <td>/host_Data/Datasets/Kaggle-SIIM-Covid19/siim-covid19-detection/train/9d514ce429a7/22897cd1daa0/0012ff7358bc.dcm</td>\n",
       "      <td>DX</td>\n",
       "      <td>F</td>\n",
       "      <td>[[677.42216, 197.97662, 1545.21983, 1197.75876], [1792.69064, 402.5525, 2409.71798, 1606.9105]]</td>\n",
       "      <td>2544</td>\n",
       "      <td>3056</td>\n",
       "      <td>train</td>\n",
       "      <td>0</td>\n",
       "      <td>1</td>\n",
       "      <td>[[113.49481214659686, 39.84435119496855, 258.88499769633506, 241.05836679245283], [300.34607581151835, 81.01685534591195, 403.7223840837696, 323.40337106918236]]</td>\n",
       "      <td>opacity</td>\n",
       "    </tr>\n",
       "    <tr>\n",
       "      <th>3</th>\n",
       "      <td>001398f4ff4f</td>\n",
       "      <td>Atypical Appearance</td>\n",
       "      <td>opacity 1 2729 2181.33331 3677.00012 2785.33331</td>\n",
       "      <td>28dddc8559b2_study</td>\n",
       "      <td>/host_Data/Datasets/Kaggle-SIIM-Covid19/siim-covid19-detection/train/28dddc8559b2/4d47bc042ee6/001398f4ff4f.dcm</td>\n",
       "      <td>CR</td>\n",
       "      <td>F</td>\n",
       "      <td>[[2729.0, 2181.33331, 3677.00012, 2785.33331]]</td>\n",
       "      <td>3520</td>\n",
       "      <td>4280</td>\n",
       "      <td>train</td>\n",
       "      <td>1</td>\n",
       "      <td>1</td>\n",
       "      <td>[[326.45981308411217, 317.2848450909091, 439.8654349158879, 405.13939054545455]]</td>\n",
       "      <td>opacity</td>\n",
       "    </tr>\n",
       "    <tr>\n",
       "      <th>4</th>\n",
       "      <td>001bd15d1891</td>\n",
       "      <td>Typical Appearance</td>\n",
       "      <td>opacity 1 623.23328 1050 1337.23328 2156 opacity 1 2578.56661 998.66667 3241.23328 2118.66667</td>\n",
       "      <td>dfd9fdd85a3e_study</td>\n",
       "      <td>/host_Data/Datasets/Kaggle-SIIM-Covid19/siim-covid19-detection/train/dfd9fdd85a3e/49170afa4f27/001bd15d1891.dcm</td>\n",
       "      <td>DX</td>\n",
       "      <td>M</td>\n",
       "      <td>[[623.23328, 1050.0, 1337.23328, 2156.0], [2578.56661, 998.66667, 3241.23328, 2118.66667]]</td>\n",
       "      <td>2800</td>\n",
       "      <td>3408</td>\n",
       "      <td>train</td>\n",
       "      <td>0</td>\n",
       "      <td>0</td>\n",
       "      <td>[[93.63129089201878, 192.0, 200.89889652582158, 394.24], [387.39028882629106, 182.61333394285714, 486.9458448826291, 387.41333394285715]]</td>\n",
       "      <td>opacity</td>\n",
       "    </tr>\n",
       "  </tbody>\n",
       "</table>\n",
       "</div>"
      ],
      "text/plain": [
       "       image_id            classi_label  \\\n",
       "0  000a312787f2      Typical Appearance   \n",
       "1  000c3a3f293f  Negative for Pneumonia   \n",
       "2  0012ff7358bc      Typical Appearance   \n",
       "3  001398f4ff4f     Atypical Appearance   \n",
       "4  001bd15d1891      Typical Appearance   \n",
       "\n",
       "                                                                                                     label  \\\n",
       "0  opacity 1 789.28836 582.43035 1815.94498 2499.73327 opacity 1 2245.91208 591.20528 3340.5737 2352.75472   \n",
       "1                                                                                           none 1 0 0 1 1   \n",
       "2   opacity 1 677.42216 197.97662 1545.21983 1197.75876 opacity 1 1792.69064 402.5525 2409.71798 1606.9105   \n",
       "3                                                          opacity 1 2729 2181.33331 3677.00012 2785.33331   \n",
       "4            opacity 1 623.23328 1050 1337.23328 2156 opacity 1 2578.56661 998.66667 3241.23328 2118.66667   \n",
       "\n",
       "     StudyInstanceUID  \\\n",
       "0  5776db0cec75_study   \n",
       "1  ff0879eb20ed_study   \n",
       "2  9d514ce429a7_study   \n",
       "3  28dddc8559b2_study   \n",
       "4  dfd9fdd85a3e_study   \n",
       "\n",
       "                                                                                                             fname  \\\n",
       "0  /host_Data/Datasets/Kaggle-SIIM-Covid19/siim-covid19-detection/train/5776db0cec75/81456c9c5423/000a312787f2.dcm   \n",
       "1  /host_Data/Datasets/Kaggle-SIIM-Covid19/siim-covid19-detection/train/ff0879eb20ed/d8a644cc4f93/000c3a3f293f.dcm   \n",
       "2  /host_Data/Datasets/Kaggle-SIIM-Covid19/siim-covid19-detection/train/9d514ce429a7/22897cd1daa0/0012ff7358bc.dcm   \n",
       "3  /host_Data/Datasets/Kaggle-SIIM-Covid19/siim-covid19-detection/train/28dddc8559b2/4d47bc042ee6/001398f4ff4f.dcm   \n",
       "4  /host_Data/Datasets/Kaggle-SIIM-Covid19/siim-covid19-detection/train/dfd9fdd85a3e/49170afa4f27/001bd15d1891.dcm   \n",
       "\n",
       "  Modality PatientSex  \\\n",
       "0       DX          M   \n",
       "1       CR          M   \n",
       "2       DX          F   \n",
       "3       CR          F   \n",
       "4       DX          M   \n",
       "\n",
       "                                                                                             bboxes  \\\n",
       "0  [[789.28836, 582.43035, 1815.94498, 2499.73327], [2245.91208, 591.20528, 3340.5737, 2352.75472]]   \n",
       "1                                                                                              None   \n",
       "2   [[677.42216, 197.97662, 1545.21983, 1197.75876], [1792.69064, 402.5525, 2409.71798, 1606.9105]]   \n",
       "3                                                    [[2729.0, 2181.33331, 3677.00012, 2785.33331]]   \n",
       "4        [[623.23328, 1050.0, 1337.23328, 2156.0], [2578.56661, 998.66667, 3241.23328, 2118.66667]]   \n",
       "\n",
       "   dim0  dim1  split  Modality_n  PatientSex_n  \\\n",
       "0  3488  4256  train           0             0   \n",
       "1  2320  2832  train           1             0   \n",
       "2  2544  3056  train           0             1   \n",
       "3  3520  4280  train           1             1   \n",
       "4  2800  3408  train           0             0   \n",
       "\n",
       "                                                                                                                                                     rescaled_bboxes  \\\n",
       "0     [[94.95198315789474, 85.49436330275229, 218.45954646616542, 366.9333240366973], [270.18491187969926, 86.78242642201835, 401.8735278195489, 345.3584910091743]]   \n",
       "1                                                                                                                                                     [[0, 0, 1, 1]]   \n",
       "2  [[113.49481214659686, 39.84435119496855, 258.88499769633506, 241.05836679245283], [300.34607581151835, 81.01685534591195, 403.7223840837696, 323.40337106918236]]   \n",
       "3                                                                                   [[326.45981308411217, 317.2848450909091, 439.8654349158879, 405.13939054545455]]   \n",
       "4                          [[93.63129089201878, 192.0, 200.89889652582158, 394.24], [387.39028882629106, 182.61333394285714, 486.9458448826291, 387.41333394285715]]   \n",
       "\n",
       "  box_label  \n",
       "0   opacity  \n",
       "1      none  \n",
       "2   opacity  \n",
       "3   opacity  \n",
       "4   opacity  "
      ]
     },
     "execution_count": 26,
     "metadata": {},
     "output_type": "execute_result"
    }
   ],
   "source": [
    "train_df.head()"
   ]
  },
  {
   "cell_type": "code",
   "execution_count": 24,
   "metadata": {
    "id": "y2An_MhTNfa4"
   },
   "outputs": [],
   "source": [
    "train_df['fold'] = -1\n",
    "\n",
    "strat_kfold = StratifiedKFold(n_splits=N_FOLDS, random_state=42, shuffle=True)\n",
    "for i, (_, test_index) in enumerate(strat_kfold.split(train_df.image_id.values, train_df['classi_label'].values)):\n",
    "    train_df.iloc[test_index, -1] = i\n",
    "    \n",
    "train_df['fold'] = train_df['fold'].astype('int')"
   ]
  },
  {
   "cell_type": "markdown",
   "metadata": {
    "id": "vCXdFIOj0PEO"
   },
   "source": [
    "# Parser and dataloader"
   ]
  },
  {
   "cell_type": "code",
   "execution_count": 25,
   "metadata": {
    "id": "KCdV8kIGRQjd"
   },
   "outputs": [],
   "source": [
    "# Here ObjectDetectionRecord from icevision and added ClassificationLabelsRecordComponent\n",
    "def ObjectDetectionClassiRecord():\n",
    "    return BaseRecord(\n",
    "        (\n",
    "            FilepathRecordComponent(),\n",
    "            InstancesLabelsRecordComponent(),\n",
    "            BBoxesRecordComponent(),\n",
    "            ClassificationLabelsRecordComponent(),\n",
    "            ScoresRecordComponent(task=Task('tabular')),\n",
    "        )\n",
    "    )\n",
    "template_record = ObjectDetectionClassiRecord()"
   ]
  },
  {
   "cell_type": "code",
   "execution_count": 26,
   "metadata": {
    "id": "MG8zebskRWj0"
   },
   "outputs": [],
   "source": [
    "#custom parser from icevision - added classification class map and classification labels\n",
    "class CustomParser(Parser):\n",
    "    def __init__(self, template_record, img_dir, label_df, idmap):\n",
    "        super().__init__(template_record=template_record)\n",
    "\n",
    "        self.img_dir = img_dir\n",
    "        self.df = label_df\n",
    "        self.class_map = ClassMap(list(self.df['box_label'].unique()))\n",
    "        self.classi_class_map = ClassMap(['Negative for Pneumonia', 'Typical Appearance', 'Indeterminate Appearance', 'Atypical Appearance'], background=None)\n",
    "        self.idmap = idmap\n",
    "\n",
    "    def __iter__(self):\n",
    "        for o in self.df.itertuples():\n",
    "            yield o\n",
    "\n",
    "    def __len__(self) -> int:\n",
    "        return len(self.df)\n",
    "\n",
    "    def record_id(self, o):\n",
    "        return o.image_id\n",
    "\n",
    "    def parse_fields(self, o, record, is_new):\n",
    "        if is_new:\n",
    "#             record.set_filepath(f'{self.img_dir}/{o.image_id}.png')\n",
    "            record.set_filepath(f'{self.img_dir}/{o.image_id}.jpg')\n",
    "            record.set_img_size(ImgSize(width=sz, height=sz))\n",
    "            record.detection.set_class_map(self.class_map)\n",
    "            record.classification.set_class_map(self.classi_class_map)\n",
    "            record.classification.set_labels([o.classi_label])\n",
    "            record.tabular.set_scores([o.Modality_n, o.PatientSex_n])\n",
    "\n",
    "        record.detection.add_bboxes([BBox.from_xyxy(float(bb[0]), float(bb[1]), float(bb[2]), float(bb[3])) for bb in o.rescaled_bboxes])\n",
    "        record.detection.add_labels([o.box_label for _ in o.rescaled_bboxes])"
   ]
  },
  {
   "cell_type": "code",
   "execution_count": 27,
   "metadata": {
    "id": "L5EfmyJo0rzI"
   },
   "outputs": [],
   "source": [
    "# the fuction below is extension of build_train_batch. this is to add batch_classi targets[\"classi\"] is for targets for classification\n",
    "def build_train_batch_m(records):\n",
    "\n",
    "    batch_images, batch_bboxes, batch_classes = zip(\n",
    "        *(process_train_record(record) for record in records)\n",
    "    )\n",
    "    batch_classi = [record.classification.label_ids for record in records] #INSERTED CODE\n",
    "    batch_tabular = [record.tabular.scores for record in records] #INSERTED CODE\n",
    "\n",
    "    # convert to tensors\n",
    "    batch_images = torch.stack(batch_images)\n",
    "    batch_bboxes = [tensor(bboxes, dtype=torch.float32) for bboxes in batch_bboxes]\n",
    "    batch_classes = [tensor(classes, dtype=torch.float32) for classes in batch_classes] \n",
    "    batch_classi = [tensor(classes, dtype=torch.float32) for classes in batch_classi] #INSERTED CODE\n",
    "    batch_tabular = [tensor(scores, dtype=torch.int32) for scores in batch_tabular] #INSERTED CODE\n",
    "\n",
    "    # convert to EffDet interface\n",
    "    targets = dict(bbox=batch_bboxes, cls=batch_classes, tab=batch_tabular, classi=batch_classi)\n",
    "\n",
    "    return (batch_images, targets), records"
   ]
  },
  {
   "cell_type": "code",
   "execution_count": 28,
   "metadata": {
    "id": "Q2b1aTMaRdfw"
   },
   "outputs": [],
   "source": [
    "# the fuction below make use of build_train_batch_ to build valid_ds\n",
    "def build_valid_batch_m(records):\n",
    "\n",
    "    (batch_images, targets), records = build_train_batch_m(records)\n",
    "\n",
    "    # convert to EffDet interface, when not training, dummy size and scale is required\n",
    "    targets = dict(img_size=None, img_scale=None, **targets)\n",
    "\n",
    "    return (batch_images, targets), records"
   ]
  },
  {
   "cell_type": "code",
   "execution_count": 29,
   "metadata": {
    "id": "8dE82FGKRekH"
   },
   "outputs": [],
   "source": [
    "def transform_dl_m(dataset, build_batch, batch_tfms=None, **dataloader_kwargs):\n",
    "    \"\"\"Creates collate_fn from build_batch by decorating it with apply_batch_tfms and unload_records\"\"\"\n",
    "    collate_fn = apply_batch_tfms(build_batch, batch_tfms=batch_tfms)\n",
    "    collate_fn = unload_records(collate_fn)\n",
    "    return DataLoader(dataset=dataset, create_batch=collate_fn, **dataloader_kwargs)"
   ]
  },
  {
   "cell_type": "code",
   "execution_count": 30,
   "metadata": {
    "id": "49OQe1zbRfmD"
   },
   "outputs": [],
   "source": [
    "def train_dl_m(dataset, batch_tfms=None, **dataloader_kwargs):\n",
    "    return transform_dl_m(\n",
    "        dataset=dataset,\n",
    "        build_batch=build_train_batch_m,\n",
    "        batch_tfms=batch_tfms,\n",
    "        **dataloader_kwargs\n",
    "    )"
   ]
  },
  {
   "cell_type": "code",
   "execution_count": 31,
   "metadata": {
    "id": "i8YBARYVRhKS"
   },
   "outputs": [],
   "source": [
    "def valid_dl_m(dataset, batch_tfms=None, **dataloader_kwargs):\n",
    "    return transform_dl_m(\n",
    "                        dataset=dataset,\n",
    "                        build_batch=build_valid_batch_m,\n",
    "                        batch_tfms=batch_tfms,\n",
    "                        **dataloader_kwargs\n",
    "                        )"
   ]
  },
  {
   "cell_type": "code",
   "execution_count": 32,
   "metadata": {
    "id": "_MFfVn0fy3oY"
   },
   "outputs": [],
   "source": [
    "def get_dls(fold):\n",
    "  \n",
    "    idmap = IDMap([o[1].image_id for o in train_df.iterrows()])\n",
    "    train_idx = [o[1].image_id for o in train_df[train_df[\"fold\"] != fold].iterrows()]\n",
    "    valid_idx = [o[1].image_id for o in train_df[train_df[\"fold\"] == fold].iterrows()]\n",
    "    split = FixedSplitter([train_idx, valid_idx])\n",
    "\n",
    "    parser = CustomParser(template_record, path_img, train_df, idmap)\n",
    "    train_records, valid_records = parser.parse(autofix=True, data_splitter=split)\n",
    "\n",
    "    train_tfms = tfms.A.Adapter([*tfms.A.aug_tfms(size=sz), tfms.A.Normalize()])\n",
    "    valid_tfms = tfms.A.Adapter([*tfms.A.resize_and_pad(sz), tfms.A.Normalize()])\n",
    "    \n",
    "    train_ds = Dataset(train_records, train_tfms)\n",
    "    valid_ds = Dataset(valid_records, valid_tfms)\n",
    "\n",
    "    train_dl = train_dl_m(train_ds, batch_size=bs, num_workers=0, shuffle=True)\n",
    "    valid_dl = valid_dl_m(valid_ds, batch_size=bs, num_workers=0, shuffle=False)\n",
    "\n",
    "    return train_dl, valid_dl"
   ]
  },
  {
   "cell_type": "code",
   "execution_count": 33,
   "metadata": {
    "id": "8s5TERcURja4"
   },
   "outputs": [],
   "source": [
    "#procs = [Categorify, FillMissing, Normalize]\n",
    "#cat_names  = ['Modality', 'PatientSex']\n",
    "\n",
    "#to = TabularPandas(train_df, procs, cat_names, cont_names=None, y_names='classi_label', y_block=CategoryBlock())\n",
    "#emb_szs = get_emb_sz(to); emb_szs"
   ]
  },
  {
   "cell_type": "markdown",
   "metadata": {
    "id": "zsE82OgdRlIp"
   },
   "source": [
    "# Preparing DetClassiBench + tabular data embeddings"
   ]
  },
  {
   "cell_type": "code",
   "execution_count": 34,
   "metadata": {
    "id": "NwArH_bqRkqv"
   },
   "outputs": [],
   "source": [
    "#modeified effdet's EfficientDet to calculate classification output from backbone's output\n",
    "class EfficientDetClassi(nn.Module):\n",
    "    def __init__(self, config, pretrained_backbone=True, classi_class=None, alternate_init=False):\n",
    "        super(EfficientDetClassi, self).__init__()\n",
    "        self.config = config\n",
    "        set_config_readonly(self.config)\n",
    "        self.backbone = timm.create_model(\n",
    "            config.backbone_name, features_only=True,\n",
    "            out_indices=self.config.backbone_indices or (2, 3, 4),\n",
    "            pretrained=pretrained_backbone, **config.backbone_args)\n",
    "        feature_info = get_feature_info(self.backbone)\n",
    "        self.fpn = BiFpn(self.config, feature_info)\n",
    "        self.class_net = HeadNet(self.config, num_outputs=self.config.num_classes)\n",
    "        self.box_net = HeadNet(self.config, num_outputs=4)\n",
    "\n",
    "        #INSERTED CODE STARTS\n",
    "        backbone_features = num_features_model(nn.Sequential(*self.backbone.children()))\n",
    "        self.vis_head = create_head(backbone_features, 100) #fastai's create_head\n",
    "        self.tab = TabularModel([[3,3], [3,3]], n_cont=0, out_sz = 100, layers = [100, 250])\n",
    "        self.final_head = nn.Sequential(\n",
    "                                        nn.BatchNorm1d(200),\n",
    "                                        nn.Dropout(0.25),\n",
    "                                        nn.Linear(200, 100, bias=False),\n",
    "                                        nn.ReLU(inplace=True),\n",
    "                                        nn.BatchNorm1d(100),\n",
    "                                        nn.Dropout(0.5),\n",
    "                                        nn.Linear(100, 4)\n",
    "                                            )\n",
    "        for m in [self.vis_head, self.tab, self.final_head]:\n",
    "            apply_init(m, nn.init.kaiming_normal_)\n",
    "        #INSERTED CODE ENDS\n",
    "        \n",
    "        '''\n",
    "        self.classifier = nn.Sequential(\n",
    "                                        nn.AdaptiveMaxPool2d(output_size=1),\n",
    "                                        nn.Flatten(),\n",
    "                                        nn.BatchNorm1d(backbone_features),\n",
    "                                        nn.Dropout(p=0.25, inplace=False),\n",
    "                                        nn.Linear(backbone_features, 512),\n",
    "                                        nn.ReLU(inplace=True),\n",
    "                                        nn.BatchNorm1d(512),\n",
    "                                        nn.Dropout(p=0.25, inplace=False),\n",
    "                                        nn.Linear(512, classi_class), \n",
    "        )\n",
    "  \n",
    "        '''\n",
    "        for n, m in self.named_modules():\n",
    "            if 'backbone' not in n:\n",
    "                if alternate_init:\n",
    "                    _init_weight_alt(m, n)\n",
    "                else:\n",
    "                    _init_weight(m, n)\n",
    "\n",
    "    @torch.jit.ignore()\n",
    "    def reset_head(self, num_classes=None, aspect_ratios=None, num_scales=None, alternate_init=False):\n",
    "        reset_class_head = False\n",
    "        reset_box_head = False\n",
    "        set_config_writeable(self.config)\n",
    "        if num_classes is not None:\n",
    "            reset_class_head = True\n",
    "            self.config.num_classes = num_classes\n",
    "        if aspect_ratios is not None:\n",
    "            reset_box_head = True\n",
    "            self.config.aspect_ratios = aspect_ratios\n",
    "        if num_scales is not None:\n",
    "            reset_box_head = True\n",
    "            self.config.num_scales = num_scales\n",
    "        set_config_readonly(self.config)\n",
    "\n",
    "        if reset_class_head:\n",
    "            self.class_net = HeadNet(self.config, num_outputs=self.config.num_classes)\n",
    "            for n, m in self.class_net.named_modules(prefix='class_net'):\n",
    "                if alternate_init:\n",
    "                    _init_weight_alt(m, n)\n",
    "                else:\n",
    "                    _init_weight(m, n)\n",
    "\n",
    "        if reset_box_head:\n",
    "            self.box_net = HeadNet(self.config, num_outputs=4)\n",
    "            for n, m in self.box_net.named_modules(prefix='box_net'):\n",
    "                if alternate_init:\n",
    "                    _init_weight_alt(m, n)\n",
    "                else:\n",
    "                    _init_weight(m, n)\n",
    "\n",
    "    @torch.jit.ignore()\n",
    "    def toggle_head_bn_level_first(self):\n",
    "        \"\"\" Toggle the head batchnorm layers between being access with feature_level first vs repeat\n",
    "        \"\"\"\n",
    "        self.class_net.toggle_bn_level_first()\n",
    "        self.box_net.toggle_bn_level_first()\n",
    "\n",
    "    def forward(self, x, tab):\n",
    "        x_b = self.backbone(x)\n",
    "        x = self.fpn(x_b)\n",
    "        x_class = self.class_net(x)\n",
    "        x_box = self.box_net(x)\n",
    "        x_classi_vis = self.vis_head(x_b[2])   #INSERTED CODE\n",
    "        x_class_tab = self.tab(tab)            #INSERTED CODE\n",
    "        x_classi = self.final_head(torch.cat([x_class_tab, x_classi_vis], dim=1))\n",
    "        return x_class, x_box, x_classi #returns x_classi on top of original"
   ]
  },
  {
   "cell_type": "code",
   "execution_count": 35,
   "metadata": {
    "id": "8p3So5S7RoK8"
   },
   "outputs": [],
   "source": [
    "# Used DetBenchTrain  \n",
    "class DetClassiBenchTrain(nn.Module):\n",
    "    def __init__(self, model, create_labeler=True):\n",
    "        super(DetClassiBenchTrain, self).__init__()\n",
    "        self.model = model\n",
    "        self.config = model.config\n",
    "        self.num_levels = model.config.num_levels\n",
    "        self.num_classes = model.config.num_classes\n",
    "        self.anchors = Anchors.from_config(model.config)\n",
    "        self.max_detection_points = model.config.max_detection_points\n",
    "        self.max_det_per_image = model.config.max_det_per_image\n",
    "        self.soft_nms = model.config.soft_nms\n",
    "        self.anchor_labeler = None\n",
    "        if create_labeler:\n",
    "            self.anchor_labeler = AnchorLabeler(self.anchors, self.num_classes, match_threshold=0.5)\n",
    "        self.loss_fn = DetectionLoss(model.config)\n",
    "        self.classi_loss = CrossEntropyLossFlat() #INSERTED CODE - loss_fn for classification loss\n",
    "\n",
    "    def forward(self, x, target):\n",
    "        tab = torch.stack(target['tab']).type(torch.LongTensor).to('cuda')\n",
    "        class_out, box_out, classi_out = self.model(x, tab) #OUTPUTS INCLUDE classiicaiton predictions\n",
    "        if self.anchor_labeler is None:\n",
    "            # target should contain pre-computed anchor labels if labeler not present in bench\n",
    "            assert 'label_num_positives' in target\n",
    "            cls_targets = [target[f'label_cls_{l}'] for l in range(self.num_levels)]\n",
    "            box_targets = [target[f'label_bbox_{l}'] for l in range(self.num_levels)]\n",
    "            num_positives = target['label_num_positives']\n",
    "        else:\n",
    "            cls_targets, box_targets, num_positives = self.anchor_labeler.batch_label_anchors(\n",
    "                target['bbox'], target['cls'])\n",
    "\n",
    "        classi_targets = torch.stack(target['classi']).squeeze().type(torch.LongTensor).to('cuda')\n",
    "        loss, class_loss, box_loss = self.loss_fn(class_out, box_out, cls_targets, box_targets, num_positives)\n",
    "        \n",
    "        #INSERTED CODE STARTS\n",
    "        classi_loss = self.classi_loss(classi_out, classi_targets)\n",
    "        loss += classi_loss\n",
    "        #INSERTED CODE ENDS\n",
    "\n",
    "        output = {'loss': loss, 'class_loss': class_loss, 'box_loss': box_loss, 'classi_pred':classi_out, 'classi_loss':classi_loss} #ADDED \"classi_loss\"\n",
    "\n",
    "        if not self.training:\n",
    "            # if eval mode, output detections for evaluation\n",
    "            class_out_pp, box_out_pp, indices, classes = _post_process(\n",
    "                class_out, box_out, num_levels=self.num_levels, num_classes=self.num_classes,\n",
    "                max_detection_points=self.max_detection_points)\n",
    "            output['detections'] = _batch_detection(\n",
    "                x.shape[0], class_out_pp, box_out_pp, self.anchors.boxes, indices, classes,\n",
    "                target['img_scale'], target['img_size'],\n",
    "                max_det_per_image=self.max_det_per_image, soft_nms=self.soft_nms)\n",
    "            \n",
    "        return output"
   ]
  },
  {
   "cell_type": "code",
   "execution_count": 36,
   "metadata": {
    "id": "yc8KPteORp5G"
   },
   "outputs": [],
   "source": [
    "def create_model_m(model_name, bench_task='', num_classes=None, pretrained=False,\n",
    "                 checkpoint_path='', checkpoint_ema=False, img_size=None, **kwargs):\n",
    "\n",
    "    config = get_efficientdet_config(model_name)\n",
    "    config.image_size = (img_size, img_size) if isinstance(img_size, int) else img_size\n",
    "\n",
    "    return create_model_from_config_m(config, bench_task=bench_task, num_classes=num_classes, pretrained=pretrained,\n",
    "                                      checkpoint_path=checkpoint_path, checkpoint_ema=checkpoint_ema, **kwargs)"
   ]
  },
  {
   "cell_type": "code",
   "execution_count": 37,
   "metadata": {
    "id": "4beHkiHIRrNm"
   },
   "outputs": [],
   "source": [
    "def create_model_from_config_m(\n",
    "        config, bench_task='', num_classes=None, pretrained=False,\n",
    "        checkpoint_path='', checkpoint_ema=False, **kwargs):\n",
    "\n",
    "    pretrained_backbone = kwargs.pop('pretrained_backbone', True)\n",
    "    if pretrained or checkpoint_path:\n",
    "        pretrained_backbone = False  # no point in loading backbone weights\n",
    "\n",
    "    # Config overrides, override some config values via kwargs.\n",
    "    overrides = (\n",
    "        'redundant_bias', 'label_smoothing', 'legacy_focal', 'jit_loss', 'soft_nms', 'max_det_per_image', 'image_size')\n",
    "    for ov in overrides:\n",
    "        value = kwargs.pop(ov, None)\n",
    "        if value is not None:\n",
    "            setattr(config, ov, value)\n",
    "\n",
    "    labeler = kwargs.pop('bench_labeler', False)\n",
    "\n",
    "    # create the base model\n",
    "    model = EfficientDetClassi(config, pretrained_backbone=pretrained_backbone, **kwargs)\n",
    "    \n",
    "    # pretrained weights are always spec'd for original config, load them before we change the model\n",
    "    if pretrained:\n",
    "        load_pretrained(model, config.url)\n",
    "\n",
    "    # reset model head if num_classes doesn't match configs\n",
    "    if num_classes is not None and num_classes != config.num_classes:\n",
    "        model.reset_head(num_classes=num_classes)\n",
    "\n",
    "    # load an argument specified training checkpoint\n",
    "    if checkpoint_path:\n",
    "        load_checkpoint(model, checkpoint_path, use_ema=checkpoint_ema)\n",
    "\n",
    "    # wrap model in task specific training/prediction bench if set\n",
    "    if bench_task == 'train':\n",
    "        model = DetClassiBenchTrain(model, create_labeler=True)\n",
    "    elif bench_task == 'predict':\n",
    "        model = DetClassiBenchPredict(model)\n",
    "    return model"
   ]
  },
  {
   "cell_type": "code",
   "execution_count": 38,
   "metadata": {
    "id": "juTwFgkPRsZE"
   },
   "outputs": [],
   "source": [
    "def splitter(m):\n",
    "    s = nn.Sequential(*m.model.children())\n",
    "    return L(s[0], s[1:]).map(params)"
   ]
  },
  {
   "cell_type": "code",
   "execution_count": 39,
   "metadata": {
    "id": "VgCAATGcceDh"
   },
   "outputs": [],
   "source": [
    "class AvgMetric_m(Metric):\n",
    "    \"Average the values of `func` taking into account potential different batch sizes\"\n",
    "    def __init__(self, func):  self.func = func\n",
    "    def reset(self):           self.total,self.count = 0.,0\n",
    "    def accumulate(self, learn):\n",
    "        bs = find_bs(torch.stack(learn.yb[0]['classi']).squeeze())\n",
    "        self.total += learn.to_detach(self.func(learn.pred, *learn.yb))*bs\n",
    "        self.count += bs\n",
    "    @property\n",
    "    def value(self): return self.total/self.count if self.count != 0 else None\n",
    "    @property\n",
    "    def name(self):  return self.func.func.__name__ if hasattr(self.func, 'func') else  self.func.__name__"
   ]
  },
  {
   "cell_type": "code",
   "execution_count": 40,
   "metadata": {
    "id": "pMV2dzEP6Odz"
   },
   "outputs": [],
   "source": [
    "def accuracy_m(inp, targ, axis=-1):\n",
    "    \"Compute accuracy with `targ` when `pred` is bs * n_classes\"\n",
    "    inp = inp['classi_pred']\n",
    "    targ = torch.stack(targ['classi']).squeeze()\n",
    "    pred,targ = flatten_check(inp.argmax(dim=axis), targ)\n",
    "    return (pred == targ).float().mean()"
   ]
  },
  {
   "cell_type": "code",
   "execution_count": 41,
   "metadata": {
    "id": "DS2ozba89RTZ"
   },
   "outputs": [],
   "source": [
    "@delegates(GradScaler)\n",
    "class MixedPrecision_m(Callback):\n",
    "    \"Mixed precision training using Pytorch's `autocast` and `GradScaler`\"\n",
    "    order = 10\n",
    "    def __init__(self, **kwargs): self.kwargs,self.autocast = kwargs,autocast()\n",
    "    def before_fit(self): self.learn.scaler,self.scales = GradScaler(**self.kwargs),L()\n",
    "    def before_batch(self): self.autocast.__enter__()\n",
    "    def after_pred(self):\n",
    "        #if listify(self.pred)[0].dtype==torch.float16: self.learn.pred = to_float(self.pred)\n",
    "        for k in self.pred:\n",
    "            if self.pred[k].dtype==torch.float16: self.pred[k] = to_float(self.pred[k])\n",
    "\n",
    "    def after_loss(self): self.autocast.__exit__()\n",
    "    def before_backward(self): self.learn.loss_grad = self.scaler.scale(self.loss_grad)\n",
    "    def before_step(self):\n",
    "        self.skipped=True\n",
    "        self.scaler.step(self)\n",
    "        if self.skipped: raise CancelStepException()\n",
    "        self.scales.append(self.scaler.get_scale())\n",
    "    def after_step(self): self.learn.scaler.update()\n",
    "\n",
    "    @property # pretend to be an optimizer for `GradScaler`\n",
    "    def param_groups(self): return self.opt.param_groups\n",
    "    def step(self, *args, **kwargs): self.skipped=False"
   ]
  },
  {
   "cell_type": "code",
   "execution_count": 42,
   "metadata": {
    "id": "OYoySIClCjdX"
   },
   "outputs": [],
   "source": [
    "@patch\n",
    "@delegates(GradScaler)\n",
    "def to_fp16_m(self:Learner, **kwargs): return self.add_cb(MixedPrecision_m(**kwargs))"
   ]
  },
  {
   "cell_type": "markdown",
   "metadata": {
    "id": "7w0AjEzl7id1"
   },
   "source": [
    "#Training"
   ]
  },
  {
   "cell_type": "code",
   "execution_count": 43,
   "metadata": {
    "id": "svqcd0447lxH"
   },
   "outputs": [],
   "source": [
    "def get_learner(fold):\n",
    "    t_dl, v_dl = get_dls(fold)\n",
    "    bench = create_model_m('tf_efficientdet_d5_ap', \n",
    "                        'train',  \n",
    "                        num_classes=2,\n",
    "                        classi_class=4,\n",
    "                        img_size=sz)\n",
    "    \n",
    "    model_type = icevision.models.ross.efficientdet\n",
    "    metrics = [COCOMetric(metric_type=COCOMetricType.bbox), AvgMetric_m(accuracy_m)]\n",
    "    learn = model_type.fastai.learner(dls=[t_dl, v_dl], \n",
    "                                      model=bench, \n",
    "                                      metrics=metrics,\n",
    "                                      splitter = splitter,\n",
    "                                      opt_func = ranger).to_fp16_m()\n",
    "    return learn\n"
   ]
  },
  {
   "cell_type": "code",
   "execution_count": null,
   "metadata": {
    "colab": {
     "base_uri": "https://localhost:8080/",
     "height": 462,
     "referenced_widgets": [
      "b22838c36beb40bca18eb972d4456dba",
      "56ec18d2424b4a9e9d42c9a06f7899a1",
      "b5bcf836bede473683cfa2997a516294",
      "f49c73f496954b92bc3310b0f9e7d2c2",
      "96aa7270f7e040e3b64b67aeb5dde487",
      "dd3c526b21834c3fb3ea850f48a51555",
      "a0486f3fcbc942b6849b5604a89ba9a2",
      "ac0db36e7b0d483ab3eac67f31079323",
      "1ec6c4183fc94a46afdb151cfcd98f19",
      "748094bfbdc2465ebc12578bee7769a6",
      "4bd54c6e344c49ca91bd81e66bfe04a9",
      "178ec1d13a004d2b975bf04c90a911b9",
      "eeb61aeb238a45ff8dfdbe1e1eb4d165",
      "f3c176f496da48799cfcaac43159a060",
      "f28635d78e264b348118dc147696a70d",
      "fb3adffb6c064499b4d36b19316fd759",
      "3d6094d45fd944148ea1b01bd3ce4d6f",
      "0a42e494b3e44e6b8903395e6914649a",
      "d81ff841675e40f4a1f65c66478061e0",
      "e4d17f92ec4a49289fcf1cb48ba8c03d",
      "9411d12098524f1898dd348a89ef5eaf",
      "6f57ac57b96b4390b6fb798a1119642f",
      "405588a6402a4bbe9874840516a76f15",
      "957b136149274d9bb99bfca80f203574",
      "83570d494e4f40d1a9298d982a2a182c",
      "5b245a69788548fb81dcdb831c170b65",
      "397643db6f9844489694f685a958f646",
      "64f5a92b67704748bffb278ae7565202",
      "cb5af0a72c8746bc9385a97659e4f508",
      "c9adf4c0d6844373a512793dbbcdf2ae",
      "83f81881c3da4b9183bc48963ab89e62",
      "be603657311745bb82ea5316405af1f8",
      "c8146391979f4d0e92b3597b4f704591"
     ]
    },
    "id": "9AsjuXWQ76Q0",
    "outputId": "cd3681e3-0547-42ca-d14f-1636af04e37b"
   },
   "outputs": [
    {
     "data": {
      "application/vnd.jupyter.widget-view+json": {
       "model_id": "fe4c3237c653417c8b5100d3e25806e3",
       "version_major": 2,
       "version_minor": 0
      },
      "text/plain": [
       "  0%|          | 0/6334 [00:00<?, ?it/s]"
      ]
     },
     "metadata": {},
     "output_type": "display_data"
    },
    {
     "name": "stderr",
     "output_type": "stream",
     "text": [
      "\u001b[1m\u001b[1mINFO    \u001b[0m\u001b[1m\u001b[0m - \u001b[1m\u001b[34m\u001b[1mAutofixing records\u001b[0m\u001b[1m\u001b[34m\u001b[0m\u001b[1m\u001b[0m | \u001b[36micevision.parsers.parser\u001b[0m:\u001b[36mparse\u001b[0m:\u001b[36m136\u001b[0m\n"
     ]
    },
    {
     "data": {
      "application/vnd.jupyter.widget-view+json": {
       "model_id": "c41c1457d741433fb6cf23948fd69b13",
       "version_major": 2,
       "version_minor": 0
      },
      "text/plain": [
       "  0%|          | 0/4222 [00:00<?, ?it/s]"
      ]
     },
     "metadata": {},
     "output_type": "display_data"
    },
    {
     "data": {
      "application/vnd.jupyter.widget-view+json": {
       "model_id": "b49653b9271841d1bdb3e142de9faefa",
       "version_major": 2,
       "version_minor": 0
      },
      "text/plain": [
       "  0%|          | 0/2112 [00:00<?, ?it/s]"
      ]
     },
     "metadata": {},
     "output_type": "display_data"
    },
    {
     "name": "stderr",
     "output_type": "stream",
     "text": [
      "\u001b[32m\u001b[1mAUTOFIX-SUCCESS\u001b[0m\u001b[32m\u001b[0m - \u001b[32m\u001b[1m\u001b[31m(record_id: 2873)\u001b[0m\u001b[32m\u001b[1m\u001b[0m\u001b[32m - Clipping bbox xmin from -0.42773894736842105 to 0 (Before: <BBox (xmin:-0.42773894736842105, ymin:236.17508403669723, xmax:166.28560842105261, ymax:498.2087530275229)>)\u001b[0m | \u001b[36micevision.utils.logger_utils\u001b[0m:\u001b[36mautofix_log\u001b[0m:\u001b[36m17\u001b[0m\n"
     ]
    },
    {
     "data": {
      "text/html": [
       "\n",
       "    <div>\n",
       "        <style>\n",
       "            /* Turns off some styling */\n",
       "            progress {\n",
       "                /* gets rid of default border in Firefox and Opera. */\n",
       "                border: none;\n",
       "                /* Needs to be in here for Safari polyfill so background images work as expected. */\n",
       "                background-size: auto;\n",
       "            }\n",
       "            .progress-bar-interrupted, .progress-bar-interrupted::-webkit-progress-bar {\n",
       "                background: #F44336;\n",
       "            }\n",
       "        </style>\n",
       "      <progress value='0' class='' max='3' style='width:300px; height:20px; vertical-align: middle;'></progress>\n",
       "      0.00% [0/3 00:00<00:00]\n",
       "    </div>\n",
       "    \n",
       "<table border=\"1\" class=\"dataframe\">\n",
       "  <thead>\n",
       "    <tr style=\"text-align: left;\">\n",
       "      <th>epoch</th>\n",
       "      <th>train_loss</th>\n",
       "      <th>valid_loss</th>\n",
       "      <th>COCOMetric</th>\n",
       "      <th>accuracy_m</th>\n",
       "      <th>time</th>\n",
       "    </tr>\n",
       "  </thead>\n",
       "  <tbody>\n",
       "  </tbody>\n",
       "</table><p>\n",
       "\n",
       "    <div>\n",
       "        <style>\n",
       "            /* Turns off some styling */\n",
       "            progress {\n",
       "                /* gets rid of default border in Firefox and Opera. */\n",
       "                border: none;\n",
       "                /* Needs to be in here for Safari polyfill so background images work as expected. */\n",
       "                background-size: auto;\n",
       "            }\n",
       "            .progress-bar-interrupted, .progress-bar-interrupted::-webkit-progress-bar {\n",
       "                background: #F44336;\n",
       "            }\n",
       "        </style>\n",
       "      <progress value='0' class='' max='1056' style='width:300px; height:20px; vertical-align: middle;'></progress>\n",
       "      0.00% [0/1056 00:00<00:00]\n",
       "    </div>\n",
       "    "
      ],
      "text/plain": [
       "<IPython.core.display.HTML object>"
      ]
     },
     "metadata": {},
     "output_type": "display_data"
    }
   ],
   "source": [
    "for i in range(N_FOLDS):\n",
    "    learn = get_learner(i)\n",
    "\n",
    "    learn.freeze()\n",
    "    learn.fit_flat_cos(3, 1e-3)\n",
    "    \n",
    "    #MODEL_PATH = f'{path}/model/tf_efficientdet_d3_ap_{i}.pth'\n",
    "    #learn.model.load_state_dict(torch.load(MODEL_PATH))\n",
    "\n",
    "    MODEL_OUTPUT_PATH = f'{path}/model/tf_efficientdet_d5_ap_{i}'\n",
    "    sm = SaveModelCallback(fname=str(MODEL_OUTPUT_PATH))\n",
    "\n",
    "    learn.unfreeze()\n",
    "    learn.fit_flat_cos(10, 1e-4, cbs=sm)"
   ]
  },
  {
   "cell_type": "code",
   "execution_count": null,
   "metadata": {
    "id": "ELyDkfBSegGb"
   },
   "outputs": [],
   "source": []
  }
 ],
 "metadata": {
  "accelerator": "GPU",
  "colab": {
   "collapsed_sections": [],
   "name": "Copy of SIIM_Covid_DetClassi+Tab.ipynb",
   "provenance": []
  },
  "kernelspec": {
   "display_name": "(venv) siim-covid19",
   "language": "python",
   "name": "siim-covid19"
  },
  "language_info": {
   "codemirror_mode": {
    "name": "ipython",
    "version": 3
   },
   "file_extension": ".py",
   "mimetype": "text/x-python",
   "name": "python",
   "nbconvert_exporter": "python",
   "pygments_lexer": "ipython3",
   "version": "3.8.5"
  },
  "widgets": {
   "application/vnd.jupyter.widget-state+json": {
    "0a42e494b3e44e6b8903395e6914649a": {
     "model_module": "@jupyter-widgets/base",
     "model_name": "LayoutModel",
     "state": {
      "_model_module": "@jupyter-widgets/base",
      "_model_module_version": "1.2.0",
      "_model_name": "LayoutModel",
      "_view_count": null,
      "_view_module": "@jupyter-widgets/base",
      "_view_module_version": "1.2.0",
      "_view_name": "LayoutView",
      "align_content": null,
      "align_items": null,
      "align_self": null,
      "border": null,
      "bottom": null,
      "display": null,
      "flex": null,
      "flex_flow": null,
      "grid_area": null,
      "grid_auto_columns": null,
      "grid_auto_flow": null,
      "grid_auto_rows": null,
      "grid_column": null,
      "grid_gap": null,
      "grid_row": null,
      "grid_template_areas": null,
      "grid_template_columns": null,
      "grid_template_rows": null,
      "height": null,
      "justify_content": null,
      "justify_items": null,
      "left": null,
      "margin": null,
      "max_height": null,
      "max_width": null,
      "min_height": null,
      "min_width": null,
      "object_fit": null,
      "object_position": null,
      "order": null,
      "overflow": null,
      "overflow_x": null,
      "overflow_y": null,
      "padding": null,
      "right": null,
      "top": null,
      "visibility": null,
      "width": null
     }
    },
    "178ec1d13a004d2b975bf04c90a911b9": {
     "model_module": "@jupyter-widgets/controls",
     "model_name": "HBoxModel",
     "state": {
      "_dom_classes": [],
      "_model_module": "@jupyter-widgets/controls",
      "_model_module_version": "1.5.0",
      "_model_name": "HBoxModel",
      "_view_count": null,
      "_view_module": "@jupyter-widgets/controls",
      "_view_module_version": "1.5.0",
      "_view_name": "HBoxView",
      "box_style": "",
      "children": [
       "IPY_MODEL_f3c176f496da48799cfcaac43159a060",
       "IPY_MODEL_f28635d78e264b348118dc147696a70d",
       "IPY_MODEL_fb3adffb6c064499b4d36b19316fd759"
      ],
      "layout": "IPY_MODEL_eeb61aeb238a45ff8dfdbe1e1eb4d165"
     }
    },
    "1d77307ce9f14cff9877a39f1071ed19": {
     "model_module": "@jupyter-widgets/controls",
     "model_name": "ProgressStyleModel",
     "state": {
      "_model_module": "@jupyter-widgets/controls",
      "_model_module_version": "1.5.0",
      "_model_name": "ProgressStyleModel",
      "_view_count": null,
      "_view_module": "@jupyter-widgets/base",
      "_view_module_version": "1.2.0",
      "_view_name": "StyleView",
      "bar_color": null,
      "description_width": ""
     }
    },
    "1ec6c4183fc94a46afdb151cfcd98f19": {
     "model_module": "@jupyter-widgets/base",
     "model_name": "LayoutModel",
     "state": {
      "_model_module": "@jupyter-widgets/base",
      "_model_module_version": "1.2.0",
      "_model_name": "LayoutModel",
      "_view_count": null,
      "_view_module": "@jupyter-widgets/base",
      "_view_module_version": "1.2.0",
      "_view_name": "LayoutView",
      "align_content": null,
      "align_items": null,
      "align_self": null,
      "border": null,
      "bottom": null,
      "display": null,
      "flex": null,
      "flex_flow": null,
      "grid_area": null,
      "grid_auto_columns": null,
      "grid_auto_flow": null,
      "grid_auto_rows": null,
      "grid_column": null,
      "grid_gap": null,
      "grid_row": null,
      "grid_template_areas": null,
      "grid_template_columns": null,
      "grid_template_rows": null,
      "height": null,
      "justify_content": null,
      "justify_items": null,
      "left": null,
      "margin": null,
      "max_height": null,
      "max_width": null,
      "min_height": null,
      "min_width": null,
      "object_fit": null,
      "object_position": null,
      "order": null,
      "overflow": null,
      "overflow_x": null,
      "overflow_y": null,
      "padding": null,
      "right": null,
      "top": null,
      "visibility": null,
      "width": null
     }
    },
    "397643db6f9844489694f685a958f646": {
     "model_module": "@jupyter-widgets/controls",
     "model_name": "HTMLModel",
     "state": {
      "_dom_classes": [],
      "_model_module": "@jupyter-widgets/controls",
      "_model_module_version": "1.5.0",
      "_model_name": "HTMLModel",
      "_view_count": null,
      "_view_module": "@jupyter-widgets/controls",
      "_view_module_version": "1.5.0",
      "_view_name": "HTMLView",
      "description": "",
      "description_tooltip": null,
      "layout": "IPY_MODEL_c8146391979f4d0e92b3597b4f704591",
      "placeholder": "​",
      "style": "IPY_MODEL_be603657311745bb82ea5316405af1f8",
      "value": " 2112/2112 [00:00&lt;00:00, 2520.03it/s]"
     }
    },
    "3d6094d45fd944148ea1b01bd3ce4d6f": {
     "model_module": "@jupyter-widgets/controls",
     "model_name": "DescriptionStyleModel",
     "state": {
      "_model_module": "@jupyter-widgets/controls",
      "_model_module_version": "1.5.0",
      "_model_name": "DescriptionStyleModel",
      "_view_count": null,
      "_view_module": "@jupyter-widgets/base",
      "_view_module_version": "1.2.0",
      "_view_name": "StyleView",
      "description_width": ""
     }
    },
    "405588a6402a4bbe9874840516a76f15": {
     "model_module": "@jupyter-widgets/controls",
     "model_name": "HBoxModel",
     "state": {
      "_dom_classes": [],
      "_model_module": "@jupyter-widgets/controls",
      "_model_module_version": "1.5.0",
      "_model_name": "HBoxModel",
      "_view_count": null,
      "_view_module": "@jupyter-widgets/controls",
      "_view_module_version": "1.5.0",
      "_view_name": "HBoxView",
      "box_style": "",
      "children": [
       "IPY_MODEL_83570d494e4f40d1a9298d982a2a182c",
       "IPY_MODEL_5b245a69788548fb81dcdb831c170b65",
       "IPY_MODEL_397643db6f9844489694f685a958f646"
      ],
      "layout": "IPY_MODEL_957b136149274d9bb99bfca80f203574"
     }
    },
    "4b5d064611e54876b67017731d3278a8": {
     "model_module": "@jupyter-widgets/controls",
     "model_name": "FloatProgressModel",
     "state": {
      "_dom_classes": [],
      "_model_module": "@jupyter-widgets/controls",
      "_model_module_version": "1.5.0",
      "_model_name": "FloatProgressModel",
      "_view_count": null,
      "_view_module": "@jupyter-widgets/controls",
      "_view_module_version": "1.5.0",
      "_view_name": "ProgressView",
      "bar_style": "info",
      "description": "",
      "description_tooltip": null,
      "layout": "IPY_MODEL_c7d0f87eec9b44dd8c56fe817482c83c",
      "max": 1,
      "min": 0,
      "orientation": "horizontal",
      "style": "IPY_MODEL_1d77307ce9f14cff9877a39f1071ed19",
      "value": 1
     }
    },
    "4bd54c6e344c49ca91bd81e66bfe04a9": {
     "model_module": "@jupyter-widgets/base",
     "model_name": "LayoutModel",
     "state": {
      "_model_module": "@jupyter-widgets/base",
      "_model_module_version": "1.2.0",
      "_model_name": "LayoutModel",
      "_view_count": null,
      "_view_module": "@jupyter-widgets/base",
      "_view_module_version": "1.2.0",
      "_view_name": "LayoutView",
      "align_content": null,
      "align_items": null,
      "align_self": null,
      "border": null,
      "bottom": null,
      "display": null,
      "flex": null,
      "flex_flow": null,
      "grid_area": null,
      "grid_auto_columns": null,
      "grid_auto_flow": null,
      "grid_auto_rows": null,
      "grid_column": null,
      "grid_gap": null,
      "grid_row": null,
      "grid_template_areas": null,
      "grid_template_columns": null,
      "grid_template_rows": null,
      "height": null,
      "justify_content": null,
      "justify_items": null,
      "left": null,
      "margin": null,
      "max_height": null,
      "max_width": null,
      "min_height": null,
      "min_width": null,
      "object_fit": null,
      "object_position": null,
      "order": null,
      "overflow": null,
      "overflow_x": null,
      "overflow_y": null,
      "padding": null,
      "right": null,
      "top": null,
      "visibility": null,
      "width": null
     }
    },
    "4ecec3524af640a0b8e3f92a3c52be88": {
     "model_module": "@jupyter-widgets/controls",
     "model_name": "HTMLModel",
     "state": {
      "_dom_classes": [],
      "_model_module": "@jupyter-widgets/controls",
      "_model_module_version": "1.5.0",
      "_model_name": "HTMLModel",
      "_view_count": null,
      "_view_module": "@jupyter-widgets/controls",
      "_view_module_version": "1.5.0",
      "_view_name": "HTMLView",
      "description": "",
      "description_tooltip": null,
      "layout": "IPY_MODEL_88a4665a3ddf4166bed653a77e335194",
      "placeholder": "​",
      "style": "IPY_MODEL_c41602aad1ed4ef6a7d3260765ce7cff",
      "value": ""
     }
    },
    "56ec18d2424b4a9e9d42c9a06f7899a1": {
     "model_module": "@jupyter-widgets/base",
     "model_name": "LayoutModel",
     "state": {
      "_model_module": "@jupyter-widgets/base",
      "_model_module_version": "1.2.0",
      "_model_name": "LayoutModel",
      "_view_count": null,
      "_view_module": "@jupyter-widgets/base",
      "_view_module_version": "1.2.0",
      "_view_name": "LayoutView",
      "align_content": null,
      "align_items": null,
      "align_self": null,
      "border": null,
      "bottom": null,
      "display": null,
      "flex": null,
      "flex_flow": null,
      "grid_area": null,
      "grid_auto_columns": null,
      "grid_auto_flow": null,
      "grid_auto_rows": null,
      "grid_column": null,
      "grid_gap": null,
      "grid_row": null,
      "grid_template_areas": null,
      "grid_template_columns": null,
      "grid_template_rows": null,
      "height": null,
      "justify_content": null,
      "justify_items": null,
      "left": null,
      "margin": null,
      "max_height": null,
      "max_width": null,
      "min_height": null,
      "min_width": null,
      "object_fit": null,
      "object_position": null,
      "order": null,
      "overflow": null,
      "overflow_x": null,
      "overflow_y": null,
      "padding": null,
      "right": null,
      "top": null,
      "visibility": null,
      "width": null
     }
    },
    "5b245a69788548fb81dcdb831c170b65": {
     "model_module": "@jupyter-widgets/controls",
     "model_name": "FloatProgressModel",
     "state": {
      "_dom_classes": [],
      "_model_module": "@jupyter-widgets/controls",
      "_model_module_version": "1.5.0",
      "_model_name": "FloatProgressModel",
      "_view_count": null,
      "_view_module": "@jupyter-widgets/controls",
      "_view_module_version": "1.5.0",
      "_view_name": "ProgressView",
      "bar_style": "success",
      "description": "",
      "description_tooltip": null,
      "layout": "IPY_MODEL_83f81881c3da4b9183bc48963ab89e62",
      "max": 2112,
      "min": 0,
      "orientation": "horizontal",
      "style": "IPY_MODEL_c9adf4c0d6844373a512793dbbcdf2ae",
      "value": 2112
     }
    },
    "64f5a92b67704748bffb278ae7565202": {
     "model_module": "@jupyter-widgets/controls",
     "model_name": "DescriptionStyleModel",
     "state": {
      "_model_module": "@jupyter-widgets/controls",
      "_model_module_version": "1.5.0",
      "_model_name": "DescriptionStyleModel",
      "_view_count": null,
      "_view_module": "@jupyter-widgets/base",
      "_view_module_version": "1.2.0",
      "_view_name": "StyleView",
      "description_width": ""
     }
    },
    "68f9f4a7f6054818998f4115f81d344e": {
     "model_module": "@jupyter-widgets/controls",
     "model_name": "DescriptionStyleModel",
     "state": {
      "_model_module": "@jupyter-widgets/controls",
      "_model_module_version": "1.5.0",
      "_model_name": "DescriptionStyleModel",
      "_view_count": null,
      "_view_module": "@jupyter-widgets/base",
      "_view_module_version": "1.2.0",
      "_view_name": "StyleView",
      "description_width": ""
     }
    },
    "6f57ac57b96b4390b6fb798a1119642f": {
     "model_module": "@jupyter-widgets/base",
     "model_name": "LayoutModel",
     "state": {
      "_model_module": "@jupyter-widgets/base",
      "_model_module_version": "1.2.0",
      "_model_name": "LayoutModel",
      "_view_count": null,
      "_view_module": "@jupyter-widgets/base",
      "_view_module_version": "1.2.0",
      "_view_name": "LayoutView",
      "align_content": null,
      "align_items": null,
      "align_self": null,
      "border": null,
      "bottom": null,
      "display": null,
      "flex": null,
      "flex_flow": null,
      "grid_area": null,
      "grid_auto_columns": null,
      "grid_auto_flow": null,
      "grid_auto_rows": null,
      "grid_column": null,
      "grid_gap": null,
      "grid_row": null,
      "grid_template_areas": null,
      "grid_template_columns": null,
      "grid_template_rows": null,
      "height": null,
      "justify_content": null,
      "justify_items": null,
      "left": null,
      "margin": null,
      "max_height": null,
      "max_width": null,
      "min_height": null,
      "min_width": null,
      "object_fit": null,
      "object_position": null,
      "order": null,
      "overflow": null,
      "overflow_x": null,
      "overflow_y": null,
      "padding": null,
      "right": null,
      "top": null,
      "visibility": null,
      "width": null
     }
    },
    "748094bfbdc2465ebc12578bee7769a6": {
     "model_module": "@jupyter-widgets/controls",
     "model_name": "DescriptionStyleModel",
     "state": {
      "_model_module": "@jupyter-widgets/controls",
      "_model_module_version": "1.5.0",
      "_model_name": "DescriptionStyleModel",
      "_view_count": null,
      "_view_module": "@jupyter-widgets/base",
      "_view_module_version": "1.2.0",
      "_view_name": "StyleView",
      "description_width": ""
     }
    },
    "83570d494e4f40d1a9298d982a2a182c": {
     "model_module": "@jupyter-widgets/controls",
     "model_name": "HTMLModel",
     "state": {
      "_dom_classes": [],
      "_model_module": "@jupyter-widgets/controls",
      "_model_module_version": "1.5.0",
      "_model_name": "HTMLModel",
      "_view_count": null,
      "_view_module": "@jupyter-widgets/controls",
      "_view_module_version": "1.5.0",
      "_view_name": "HTMLView",
      "description": "",
      "description_tooltip": null,
      "layout": "IPY_MODEL_cb5af0a72c8746bc9385a97659e4f508",
      "placeholder": "​",
      "style": "IPY_MODEL_64f5a92b67704748bffb278ae7565202",
      "value": "100%"
     }
    },
    "83f81881c3da4b9183bc48963ab89e62": {
     "model_module": "@jupyter-widgets/base",
     "model_name": "LayoutModel",
     "state": {
      "_model_module": "@jupyter-widgets/base",
      "_model_module_version": "1.2.0",
      "_model_name": "LayoutModel",
      "_view_count": null,
      "_view_module": "@jupyter-widgets/base",
      "_view_module_version": "1.2.0",
      "_view_name": "LayoutView",
      "align_content": null,
      "align_items": null,
      "align_self": null,
      "border": null,
      "bottom": null,
      "display": null,
      "flex": null,
      "flex_flow": null,
      "grid_area": null,
      "grid_auto_columns": null,
      "grid_auto_flow": null,
      "grid_auto_rows": null,
      "grid_column": null,
      "grid_gap": null,
      "grid_row": null,
      "grid_template_areas": null,
      "grid_template_columns": null,
      "grid_template_rows": null,
      "height": null,
      "justify_content": null,
      "justify_items": null,
      "left": null,
      "margin": null,
      "max_height": null,
      "max_width": null,
      "min_height": null,
      "min_width": null,
      "object_fit": null,
      "object_position": null,
      "order": null,
      "overflow": null,
      "overflow_x": null,
      "overflow_y": null,
      "padding": null,
      "right": null,
      "top": null,
      "visibility": null,
      "width": null
     }
    },
    "88a4665a3ddf4166bed653a77e335194": {
     "model_module": "@jupyter-widgets/base",
     "model_name": "LayoutModel",
     "state": {
      "_model_module": "@jupyter-widgets/base",
      "_model_module_version": "1.2.0",
      "_model_name": "LayoutModel",
      "_view_count": null,
      "_view_module": "@jupyter-widgets/base",
      "_view_module_version": "1.2.0",
      "_view_name": "LayoutView",
      "align_content": null,
      "align_items": null,
      "align_self": null,
      "border": null,
      "bottom": null,
      "display": null,
      "flex": null,
      "flex_flow": null,
      "grid_area": null,
      "grid_auto_columns": null,
      "grid_auto_flow": null,
      "grid_auto_rows": null,
      "grid_column": null,
      "grid_gap": null,
      "grid_row": null,
      "grid_template_areas": null,
      "grid_template_columns": null,
      "grid_template_rows": null,
      "height": null,
      "justify_content": null,
      "justify_items": null,
      "left": null,
      "margin": null,
      "max_height": null,
      "max_width": null,
      "min_height": null,
      "min_width": null,
      "object_fit": null,
      "object_position": null,
      "order": null,
      "overflow": null,
      "overflow_x": null,
      "overflow_y": null,
      "padding": null,
      "right": null,
      "top": null,
      "visibility": null,
      "width": null
     }
    },
    "9411d12098524f1898dd348a89ef5eaf": {
     "model_module": "@jupyter-widgets/controls",
     "model_name": "DescriptionStyleModel",
     "state": {
      "_model_module": "@jupyter-widgets/controls",
      "_model_module_version": "1.5.0",
      "_model_name": "DescriptionStyleModel",
      "_view_count": null,
      "_view_module": "@jupyter-widgets/base",
      "_view_module_version": "1.2.0",
      "_view_name": "StyleView",
      "description_width": ""
     }
    },
    "957b136149274d9bb99bfca80f203574": {
     "model_module": "@jupyter-widgets/base",
     "model_name": "LayoutModel",
     "state": {
      "_model_module": "@jupyter-widgets/base",
      "_model_module_version": "1.2.0",
      "_model_name": "LayoutModel",
      "_view_count": null,
      "_view_module": "@jupyter-widgets/base",
      "_view_module_version": "1.2.0",
      "_view_name": "LayoutView",
      "align_content": null,
      "align_items": null,
      "align_self": null,
      "border": null,
      "bottom": null,
      "display": null,
      "flex": null,
      "flex_flow": null,
      "grid_area": null,
      "grid_auto_columns": null,
      "grid_auto_flow": null,
      "grid_auto_rows": null,
      "grid_column": null,
      "grid_gap": null,
      "grid_row": null,
      "grid_template_areas": null,
      "grid_template_columns": null,
      "grid_template_rows": null,
      "height": null,
      "justify_content": null,
      "justify_items": null,
      "left": null,
      "margin": null,
      "max_height": null,
      "max_width": null,
      "min_height": null,
      "min_width": null,
      "object_fit": null,
      "object_position": null,
      "order": null,
      "overflow": null,
      "overflow_x": null,
      "overflow_y": null,
      "padding": null,
      "right": null,
      "top": null,
      "visibility": null,
      "width": null
     }
    },
    "96aa7270f7e040e3b64b67aeb5dde487": {
     "model_module": "@jupyter-widgets/controls",
     "model_name": "HTMLModel",
     "state": {
      "_dom_classes": [],
      "_model_module": "@jupyter-widgets/controls",
      "_model_module_version": "1.5.0",
      "_model_name": "HTMLModel",
      "_view_count": null,
      "_view_module": "@jupyter-widgets/controls",
      "_view_module_version": "1.5.0",
      "_view_name": "HTMLView",
      "description": "",
      "description_tooltip": null,
      "layout": "IPY_MODEL_4bd54c6e344c49ca91bd81e66bfe04a9",
      "placeholder": "​",
      "style": "IPY_MODEL_748094bfbdc2465ebc12578bee7769a6",
      "value": " 6334/6334 [00:03&lt;00:00, 2146.15it/s]"
     }
    },
    "a0486f3fcbc942b6849b5604a89ba9a2": {
     "model_module": "@jupyter-widgets/base",
     "model_name": "LayoutModel",
     "state": {
      "_model_module": "@jupyter-widgets/base",
      "_model_module_version": "1.2.0",
      "_model_name": "LayoutModel",
      "_view_count": null,
      "_view_module": "@jupyter-widgets/base",
      "_view_module_version": "1.2.0",
      "_view_name": "LayoutView",
      "align_content": null,
      "align_items": null,
      "align_self": null,
      "border": null,
      "bottom": null,
      "display": null,
      "flex": null,
      "flex_flow": null,
      "grid_area": null,
      "grid_auto_columns": null,
      "grid_auto_flow": null,
      "grid_auto_rows": null,
      "grid_column": null,
      "grid_gap": null,
      "grid_row": null,
      "grid_template_areas": null,
      "grid_template_columns": null,
      "grid_template_rows": null,
      "height": null,
      "justify_content": null,
      "justify_items": null,
      "left": null,
      "margin": null,
      "max_height": null,
      "max_width": null,
      "min_height": null,
      "min_width": null,
      "object_fit": null,
      "object_position": null,
      "order": null,
      "overflow": null,
      "overflow_x": null,
      "overflow_y": null,
      "padding": null,
      "right": null,
      "top": null,
      "visibility": null,
      "width": null
     }
    },
    "ac0db36e7b0d483ab3eac67f31079323": {
     "model_module": "@jupyter-widgets/controls",
     "model_name": "ProgressStyleModel",
     "state": {
      "_model_module": "@jupyter-widgets/controls",
      "_model_module_version": "1.5.0",
      "_model_name": "ProgressStyleModel",
      "_view_count": null,
      "_view_module": "@jupyter-widgets/base",
      "_view_module_version": "1.2.0",
      "_view_name": "StyleView",
      "bar_color": null,
      "description_width": ""
     }
    },
    "b22838c36beb40bca18eb972d4456dba": {
     "model_module": "@jupyter-widgets/controls",
     "model_name": "HBoxModel",
     "state": {
      "_dom_classes": [],
      "_model_module": "@jupyter-widgets/controls",
      "_model_module_version": "1.5.0",
      "_model_name": "HBoxModel",
      "_view_count": null,
      "_view_module": "@jupyter-widgets/controls",
      "_view_module_version": "1.5.0",
      "_view_name": "HBoxView",
      "box_style": "",
      "children": [
       "IPY_MODEL_b5bcf836bede473683cfa2997a516294",
       "IPY_MODEL_f49c73f496954b92bc3310b0f9e7d2c2",
       "IPY_MODEL_96aa7270f7e040e3b64b67aeb5dde487"
      ],
      "layout": "IPY_MODEL_56ec18d2424b4a9e9d42c9a06f7899a1"
     }
    },
    "b5bcf836bede473683cfa2997a516294": {
     "model_module": "@jupyter-widgets/controls",
     "model_name": "HTMLModel",
     "state": {
      "_dom_classes": [],
      "_model_module": "@jupyter-widgets/controls",
      "_model_module_version": "1.5.0",
      "_model_name": "HTMLModel",
      "_view_count": null,
      "_view_module": "@jupyter-widgets/controls",
      "_view_module_version": "1.5.0",
      "_view_name": "HTMLView",
      "description": "",
      "description_tooltip": null,
      "layout": "IPY_MODEL_a0486f3fcbc942b6849b5604a89ba9a2",
      "placeholder": "​",
      "style": "IPY_MODEL_dd3c526b21834c3fb3ea850f48a51555",
      "value": "100%"
     }
    },
    "b92fc53fc3f541b99f0372e633e2c59d": {
     "model_module": "@jupyter-widgets/base",
     "model_name": "LayoutModel",
     "state": {
      "_model_module": "@jupyter-widgets/base",
      "_model_module_version": "1.2.0",
      "_model_name": "LayoutModel",
      "_view_count": null,
      "_view_module": "@jupyter-widgets/base",
      "_view_module_version": "1.2.0",
      "_view_name": "LayoutView",
      "align_content": null,
      "align_items": null,
      "align_self": null,
      "border": null,
      "bottom": null,
      "display": null,
      "flex": null,
      "flex_flow": null,
      "grid_area": null,
      "grid_auto_columns": null,
      "grid_auto_flow": null,
      "grid_auto_rows": null,
      "grid_column": null,
      "grid_gap": null,
      "grid_row": null,
      "grid_template_areas": null,
      "grid_template_columns": null,
      "grid_template_rows": null,
      "height": null,
      "justify_content": null,
      "justify_items": null,
      "left": null,
      "margin": null,
      "max_height": null,
      "max_width": null,
      "min_height": null,
      "min_width": null,
      "object_fit": null,
      "object_position": null,
      "order": null,
      "overflow": null,
      "overflow_x": null,
      "overflow_y": null,
      "padding": null,
      "right": null,
      "top": null,
      "visibility": null,
      "width": null
     }
    },
    "be603657311745bb82ea5316405af1f8": {
     "model_module": "@jupyter-widgets/controls",
     "model_name": "DescriptionStyleModel",
     "state": {
      "_model_module": "@jupyter-widgets/controls",
      "_model_module_version": "1.5.0",
      "_model_name": "DescriptionStyleModel",
      "_view_count": null,
      "_view_module": "@jupyter-widgets/base",
      "_view_module_version": "1.2.0",
      "_view_name": "StyleView",
      "description_width": ""
     }
    },
    "c41602aad1ed4ef6a7d3260765ce7cff": {
     "model_module": "@jupyter-widgets/controls",
     "model_name": "DescriptionStyleModel",
     "state": {
      "_model_module": "@jupyter-widgets/controls",
      "_model_module_version": "1.5.0",
      "_model_name": "DescriptionStyleModel",
      "_view_count": null,
      "_view_module": "@jupyter-widgets/base",
      "_view_module_version": "1.2.0",
      "_view_name": "StyleView",
      "description_width": ""
     }
    },
    "c7d0f87eec9b44dd8c56fe817482c83c": {
     "model_module": "@jupyter-widgets/base",
     "model_name": "LayoutModel",
     "state": {
      "_model_module": "@jupyter-widgets/base",
      "_model_module_version": "1.2.0",
      "_model_name": "LayoutModel",
      "_view_count": null,
      "_view_module": "@jupyter-widgets/base",
      "_view_module_version": "1.2.0",
      "_view_name": "LayoutView",
      "align_content": null,
      "align_items": null,
      "align_self": null,
      "border": null,
      "bottom": null,
      "display": null,
      "flex": null,
      "flex_flow": null,
      "grid_area": null,
      "grid_auto_columns": null,
      "grid_auto_flow": null,
      "grid_auto_rows": null,
      "grid_column": null,
      "grid_gap": null,
      "grid_row": null,
      "grid_template_areas": null,
      "grid_template_columns": null,
      "grid_template_rows": null,
      "height": null,
      "justify_content": null,
      "justify_items": null,
      "left": null,
      "margin": null,
      "max_height": null,
      "max_width": null,
      "min_height": null,
      "min_width": null,
      "object_fit": null,
      "object_position": null,
      "order": null,
      "overflow": null,
      "overflow_x": null,
      "overflow_y": null,
      "padding": null,
      "right": null,
      "top": null,
      "visibility": null,
      "width": "20px"
     }
    },
    "c8146391979f4d0e92b3597b4f704591": {
     "model_module": "@jupyter-widgets/base",
     "model_name": "LayoutModel",
     "state": {
      "_model_module": "@jupyter-widgets/base",
      "_model_module_version": "1.2.0",
      "_model_name": "LayoutModel",
      "_view_count": null,
      "_view_module": "@jupyter-widgets/base",
      "_view_module_version": "1.2.0",
      "_view_name": "LayoutView",
      "align_content": null,
      "align_items": null,
      "align_self": null,
      "border": null,
      "bottom": null,
      "display": null,
      "flex": null,
      "flex_flow": null,
      "grid_area": null,
      "grid_auto_columns": null,
      "grid_auto_flow": null,
      "grid_auto_rows": null,
      "grid_column": null,
      "grid_gap": null,
      "grid_row": null,
      "grid_template_areas": null,
      "grid_template_columns": null,
      "grid_template_rows": null,
      "height": null,
      "justify_content": null,
      "justify_items": null,
      "left": null,
      "margin": null,
      "max_height": null,
      "max_width": null,
      "min_height": null,
      "min_width": null,
      "object_fit": null,
      "object_position": null,
      "order": null,
      "overflow": null,
      "overflow_x": null,
      "overflow_y": null,
      "padding": null,
      "right": null,
      "top": null,
      "visibility": null,
      "width": null
     }
    },
    "c9adf4c0d6844373a512793dbbcdf2ae": {
     "model_module": "@jupyter-widgets/controls",
     "model_name": "ProgressStyleModel",
     "state": {
      "_model_module": "@jupyter-widgets/controls",
      "_model_module_version": "1.5.0",
      "_model_name": "ProgressStyleModel",
      "_view_count": null,
      "_view_module": "@jupyter-widgets/base",
      "_view_module_version": "1.2.0",
      "_view_name": "StyleView",
      "bar_color": null,
      "description_width": ""
     }
    },
    "cb5af0a72c8746bc9385a97659e4f508": {
     "model_module": "@jupyter-widgets/base",
     "model_name": "LayoutModel",
     "state": {
      "_model_module": "@jupyter-widgets/base",
      "_model_module_version": "1.2.0",
      "_model_name": "LayoutModel",
      "_view_count": null,
      "_view_module": "@jupyter-widgets/base",
      "_view_module_version": "1.2.0",
      "_view_name": "LayoutView",
      "align_content": null,
      "align_items": null,
      "align_self": null,
      "border": null,
      "bottom": null,
      "display": null,
      "flex": null,
      "flex_flow": null,
      "grid_area": null,
      "grid_auto_columns": null,
      "grid_auto_flow": null,
      "grid_auto_rows": null,
      "grid_column": null,
      "grid_gap": null,
      "grid_row": null,
      "grid_template_areas": null,
      "grid_template_columns": null,
      "grid_template_rows": null,
      "height": null,
      "justify_content": null,
      "justify_items": null,
      "left": null,
      "margin": null,
      "max_height": null,
      "max_width": null,
      "min_height": null,
      "min_width": null,
      "object_fit": null,
      "object_position": null,
      "order": null,
      "overflow": null,
      "overflow_x": null,
      "overflow_y": null,
      "padding": null,
      "right": null,
      "top": null,
      "visibility": null,
      "width": null
     }
    },
    "d58e80e302fc416dac8381f12f937e4c": {
     "model_module": "@jupyter-widgets/controls",
     "model_name": "HBoxModel",
     "state": {
      "_dom_classes": [],
      "_model_module": "@jupyter-widgets/controls",
      "_model_module_version": "1.5.0",
      "_model_name": "HBoxModel",
      "_view_count": null,
      "_view_module": "@jupyter-widgets/controls",
      "_view_module_version": "1.5.0",
      "_view_name": "HBoxView",
      "box_style": "",
      "children": [
       "IPY_MODEL_4ecec3524af640a0b8e3f92a3c52be88",
       "IPY_MODEL_4b5d064611e54876b67017731d3278a8",
       "IPY_MODEL_f767b5769e0f409ea4dc305f2a7bcec1"
      ],
      "layout": "IPY_MODEL_fc86c940d8784019a2834a16c329d506"
     }
    },
    "d81ff841675e40f4a1f65c66478061e0": {
     "model_module": "@jupyter-widgets/controls",
     "model_name": "ProgressStyleModel",
     "state": {
      "_model_module": "@jupyter-widgets/controls",
      "_model_module_version": "1.5.0",
      "_model_name": "ProgressStyleModel",
      "_view_count": null,
      "_view_module": "@jupyter-widgets/base",
      "_view_module_version": "1.2.0",
      "_view_name": "StyleView",
      "bar_color": null,
      "description_width": ""
     }
    },
    "dd3c526b21834c3fb3ea850f48a51555": {
     "model_module": "@jupyter-widgets/controls",
     "model_name": "DescriptionStyleModel",
     "state": {
      "_model_module": "@jupyter-widgets/controls",
      "_model_module_version": "1.5.0",
      "_model_name": "DescriptionStyleModel",
      "_view_count": null,
      "_view_module": "@jupyter-widgets/base",
      "_view_module_version": "1.2.0",
      "_view_name": "StyleView",
      "description_width": ""
     }
    },
    "e4d17f92ec4a49289fcf1cb48ba8c03d": {
     "model_module": "@jupyter-widgets/base",
     "model_name": "LayoutModel",
     "state": {
      "_model_module": "@jupyter-widgets/base",
      "_model_module_version": "1.2.0",
      "_model_name": "LayoutModel",
      "_view_count": null,
      "_view_module": "@jupyter-widgets/base",
      "_view_module_version": "1.2.0",
      "_view_name": "LayoutView",
      "align_content": null,
      "align_items": null,
      "align_self": null,
      "border": null,
      "bottom": null,
      "display": null,
      "flex": null,
      "flex_flow": null,
      "grid_area": null,
      "grid_auto_columns": null,
      "grid_auto_flow": null,
      "grid_auto_rows": null,
      "grid_column": null,
      "grid_gap": null,
      "grid_row": null,
      "grid_template_areas": null,
      "grid_template_columns": null,
      "grid_template_rows": null,
      "height": null,
      "justify_content": null,
      "justify_items": null,
      "left": null,
      "margin": null,
      "max_height": null,
      "max_width": null,
      "min_height": null,
      "min_width": null,
      "object_fit": null,
      "object_position": null,
      "order": null,
      "overflow": null,
      "overflow_x": null,
      "overflow_y": null,
      "padding": null,
      "right": null,
      "top": null,
      "visibility": null,
      "width": null
     }
    },
    "eeb61aeb238a45ff8dfdbe1e1eb4d165": {
     "model_module": "@jupyter-widgets/base",
     "model_name": "LayoutModel",
     "state": {
      "_model_module": "@jupyter-widgets/base",
      "_model_module_version": "1.2.0",
      "_model_name": "LayoutModel",
      "_view_count": null,
      "_view_module": "@jupyter-widgets/base",
      "_view_module_version": "1.2.0",
      "_view_name": "LayoutView",
      "align_content": null,
      "align_items": null,
      "align_self": null,
      "border": null,
      "bottom": null,
      "display": null,
      "flex": null,
      "flex_flow": null,
      "grid_area": null,
      "grid_auto_columns": null,
      "grid_auto_flow": null,
      "grid_auto_rows": null,
      "grid_column": null,
      "grid_gap": null,
      "grid_row": null,
      "grid_template_areas": null,
      "grid_template_columns": null,
      "grid_template_rows": null,
      "height": null,
      "justify_content": null,
      "justify_items": null,
      "left": null,
      "margin": null,
      "max_height": null,
      "max_width": null,
      "min_height": null,
      "min_width": null,
      "object_fit": null,
      "object_position": null,
      "order": null,
      "overflow": null,
      "overflow_x": null,
      "overflow_y": null,
      "padding": null,
      "right": null,
      "top": null,
      "visibility": null,
      "width": null
     }
    },
    "f28635d78e264b348118dc147696a70d": {
     "model_module": "@jupyter-widgets/controls",
     "model_name": "FloatProgressModel",
     "state": {
      "_dom_classes": [],
      "_model_module": "@jupyter-widgets/controls",
      "_model_module_version": "1.5.0",
      "_model_name": "FloatProgressModel",
      "_view_count": null,
      "_view_module": "@jupyter-widgets/controls",
      "_view_module_version": "1.5.0",
      "_view_name": "ProgressView",
      "bar_style": "success",
      "description": "",
      "description_tooltip": null,
      "layout": "IPY_MODEL_e4d17f92ec4a49289fcf1cb48ba8c03d",
      "max": 4222,
      "min": 0,
      "orientation": "horizontal",
      "style": "IPY_MODEL_d81ff841675e40f4a1f65c66478061e0",
      "value": 4222
     }
    },
    "f3c176f496da48799cfcaac43159a060": {
     "model_module": "@jupyter-widgets/controls",
     "model_name": "HTMLModel",
     "state": {
      "_dom_classes": [],
      "_model_module": "@jupyter-widgets/controls",
      "_model_module_version": "1.5.0",
      "_model_name": "HTMLModel",
      "_view_count": null,
      "_view_module": "@jupyter-widgets/controls",
      "_view_module_version": "1.5.0",
      "_view_name": "HTMLView",
      "description": "",
      "description_tooltip": null,
      "layout": "IPY_MODEL_0a42e494b3e44e6b8903395e6914649a",
      "placeholder": "​",
      "style": "IPY_MODEL_3d6094d45fd944148ea1b01bd3ce4d6f",
      "value": "100%"
     }
    },
    "f49c73f496954b92bc3310b0f9e7d2c2": {
     "model_module": "@jupyter-widgets/controls",
     "model_name": "FloatProgressModel",
     "state": {
      "_dom_classes": [],
      "_model_module": "@jupyter-widgets/controls",
      "_model_module_version": "1.5.0",
      "_model_name": "FloatProgressModel",
      "_view_count": null,
      "_view_module": "@jupyter-widgets/controls",
      "_view_module_version": "1.5.0",
      "_view_name": "ProgressView",
      "bar_style": "success",
      "description": "",
      "description_tooltip": null,
      "layout": "IPY_MODEL_1ec6c4183fc94a46afdb151cfcd98f19",
      "max": 6334,
      "min": 0,
      "orientation": "horizontal",
      "style": "IPY_MODEL_ac0db36e7b0d483ab3eac67f31079323",
      "value": 6334
     }
    },
    "f767b5769e0f409ea4dc305f2a7bcec1": {
     "model_module": "@jupyter-widgets/controls",
     "model_name": "HTMLModel",
     "state": {
      "_dom_classes": [],
      "_model_module": "@jupyter-widgets/controls",
      "_model_module_version": "1.5.0",
      "_model_name": "HTMLModel",
      "_view_count": null,
      "_view_module": "@jupyter-widgets/controls",
      "_view_module_version": "1.5.0",
      "_view_name": "HTMLView",
      "description": "",
      "description_tooltip": null,
      "layout": "IPY_MODEL_b92fc53fc3f541b99f0372e633e2c59d",
      "placeholder": "​",
      "style": "IPY_MODEL_68f9f4a7f6054818998f4115f81d344e",
      "value": " 1565769/? [00:20&lt;00:00, 3066127.34B/s]"
     }
    },
    "fb3adffb6c064499b4d36b19316fd759": {
     "model_module": "@jupyter-widgets/controls",
     "model_name": "HTMLModel",
     "state": {
      "_dom_classes": [],
      "_model_module": "@jupyter-widgets/controls",
      "_model_module_version": "1.5.0",
      "_model_name": "HTMLModel",
      "_view_count": null,
      "_view_module": "@jupyter-widgets/controls",
      "_view_module_version": "1.5.0",
      "_view_name": "HTMLView",
      "description": "",
      "description_tooltip": null,
      "layout": "IPY_MODEL_6f57ac57b96b4390b6fb798a1119642f",
      "placeholder": "​",
      "style": "IPY_MODEL_9411d12098524f1898dd348a89ef5eaf",
      "value": " 4222/4222 [00:01&lt;00:00, 2867.89it/s]"
     }
    },
    "fc86c940d8784019a2834a16c329d506": {
     "model_module": "@jupyter-widgets/base",
     "model_name": "LayoutModel",
     "state": {
      "_model_module": "@jupyter-widgets/base",
      "_model_module_version": "1.2.0",
      "_model_name": "LayoutModel",
      "_view_count": null,
      "_view_module": "@jupyter-widgets/base",
      "_view_module_version": "1.2.0",
      "_view_name": "LayoutView",
      "align_content": null,
      "align_items": null,
      "align_self": null,
      "border": null,
      "bottom": null,
      "display": null,
      "flex": null,
      "flex_flow": null,
      "grid_area": null,
      "grid_auto_columns": null,
      "grid_auto_flow": null,
      "grid_auto_rows": null,
      "grid_column": null,
      "grid_gap": null,
      "grid_row": null,
      "grid_template_areas": null,
      "grid_template_columns": null,
      "grid_template_rows": null,
      "height": null,
      "justify_content": null,
      "justify_items": null,
      "left": null,
      "margin": null,
      "max_height": null,
      "max_width": null,
      "min_height": null,
      "min_width": null,
      "object_fit": null,
      "object_position": null,
      "order": null,
      "overflow": null,
      "overflow_x": null,
      "overflow_y": null,
      "padding": null,
      "right": null,
      "top": null,
      "visibility": null,
      "width": null
     }
    }
   }
  }
 },
 "nbformat": 4,
 "nbformat_minor": 4
}
